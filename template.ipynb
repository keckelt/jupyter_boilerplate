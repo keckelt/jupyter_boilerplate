{
 "cells": [
  {
   "cell_type": "code",
   "execution_count": 2,
   "id": "international-ensemble",
   "metadata": {},
   "outputs": [],
   "source": [
    "import numpy as np\n",
    "import pandas as pd\n",
    "\n",
    "import matplotlib.pyplot as plt\n",
    "import seaborn as sns\n",
    "\n",
    "import altair as alt\n",
    "from altair import datum\n",
    "alt.data_transformers.disable_max_rows()\n",
    "\n",
    "from sklearn import manifold\n",
    "from openTSNE import TSNE\n",
    "from openTSNE.callbacks import ErrorLogger\n",
    "from umap import UMAP\n",
    "\n",
    "from vega_datasets import data\n",
    "import sklearn.datasets"
   ]
  },
  {
   "cell_type": "code",
   "execution_count": 3,
   "id": "dynamic-breakdown",
   "metadata": {},
   "outputs": [
    {
     "data": {
      "text/html": [
       "<div>\n",
       "<style scoped>\n",
       "    .dataframe tbody tr th:only-of-type {\n",
       "        vertical-align: middle;\n",
       "    }\n",
       "\n",
       "    .dataframe tbody tr th {\n",
       "        vertical-align: top;\n",
       "    }\n",
       "\n",
       "    .dataframe thead th {\n",
       "        text-align: right;\n",
       "    }\n",
       "</style>\n",
       "<table border=\"1\" class=\"dataframe\">\n",
       "  <thead>\n",
       "    <tr style=\"text-align: right;\">\n",
       "      <th></th>\n",
       "      <th>sepalLength</th>\n",
       "      <th>sepalWidth</th>\n",
       "      <th>petalLength</th>\n",
       "      <th>petalWidth</th>\n",
       "      <th>species</th>\n",
       "    </tr>\n",
       "  </thead>\n",
       "  <tbody>\n",
       "    <tr>\n",
       "      <th>0</th>\n",
       "      <td>5.1</td>\n",
       "      <td>3.5</td>\n",
       "      <td>1.4</td>\n",
       "      <td>0.2</td>\n",
       "      <td>setosa</td>\n",
       "    </tr>\n",
       "    <tr>\n",
       "      <th>1</th>\n",
       "      <td>4.9</td>\n",
       "      <td>3.0</td>\n",
       "      <td>1.4</td>\n",
       "      <td>0.2</td>\n",
       "      <td>setosa</td>\n",
       "    </tr>\n",
       "    <tr>\n",
       "      <th>2</th>\n",
       "      <td>4.7</td>\n",
       "      <td>3.2</td>\n",
       "      <td>1.3</td>\n",
       "      <td>0.2</td>\n",
       "      <td>setosa</td>\n",
       "    </tr>\n",
       "    <tr>\n",
       "      <th>3</th>\n",
       "      <td>4.6</td>\n",
       "      <td>3.1</td>\n",
       "      <td>1.5</td>\n",
       "      <td>0.2</td>\n",
       "      <td>setosa</td>\n",
       "    </tr>\n",
       "    <tr>\n",
       "      <th>4</th>\n",
       "      <td>5.0</td>\n",
       "      <td>3.6</td>\n",
       "      <td>1.4</td>\n",
       "      <td>0.2</td>\n",
       "      <td>setosa</td>\n",
       "    </tr>\n",
       "  </tbody>\n",
       "</table>\n",
       "</div>"
      ],
      "text/plain": [
       "   sepalLength  sepalWidth  petalLength  petalWidth species\n",
       "0          5.1         3.5          1.4         0.2  setosa\n",
       "1          4.9         3.0          1.4         0.2  setosa\n",
       "2          4.7         3.2          1.3         0.2  setosa\n",
       "3          4.6         3.1          1.5         0.2  setosa\n",
       "4          5.0         3.6          1.4         0.2  setosa"
      ]
     },
     "execution_count": 3,
     "metadata": {},
     "output_type": "execute_result"
    }
   ],
   "source": [
    "df_iris = data.iris()\n",
    "df_iris.head()"
   ]
  },
  {
   "cell_type": "code",
   "execution_count": 4,
   "id": "adapted-skill",
   "metadata": {},
   "outputs": [
    {
     "data": {
      "text/html": [
       "\n",
       "<div id=\"altair-viz-3ea697271a704beb917a4199beba9f75\"></div>\n",
       "<script type=\"text/javascript\">\n",
       "  (function(spec, embedOpt){\n",
       "    let outputDiv = document.currentScript.previousElementSibling;\n",
       "    if (outputDiv.id !== \"altair-viz-3ea697271a704beb917a4199beba9f75\") {\n",
       "      outputDiv = document.getElementById(\"altair-viz-3ea697271a704beb917a4199beba9f75\");\n",
       "    }\n",
       "    const paths = {\n",
       "      \"vega\": \"https://cdn.jsdelivr.net/npm//vega@5?noext\",\n",
       "      \"vega-lib\": \"https://cdn.jsdelivr.net/npm//vega-lib?noext\",\n",
       "      \"vega-lite\": \"https://cdn.jsdelivr.net/npm//vega-lite@4.8.1?noext\",\n",
       "      \"vega-embed\": \"https://cdn.jsdelivr.net/npm//vega-embed@6?noext\",\n",
       "    };\n",
       "\n",
       "    function loadScript(lib) {\n",
       "      return new Promise(function(resolve, reject) {\n",
       "        var s = document.createElement('script');\n",
       "        s.src = paths[lib];\n",
       "        s.async = true;\n",
       "        s.onload = () => resolve(paths[lib]);\n",
       "        s.onerror = () => reject(`Error loading script: ${paths[lib]}`);\n",
       "        document.getElementsByTagName(\"head\")[0].appendChild(s);\n",
       "      });\n",
       "    }\n",
       "\n",
       "    function showError(err) {\n",
       "      outputDiv.innerHTML = `<div class=\"error\" style=\"color:red;\">${err}</div>`;\n",
       "      throw err;\n",
       "    }\n",
       "\n",
       "    function displayChart(vegaEmbed) {\n",
       "      vegaEmbed(outputDiv, spec, embedOpt)\n",
       "        .catch(err => showError(`Javascript Error: ${err.message}<br>This usually means there's a typo in your chart specification. See the javascript console for the full traceback.`));\n",
       "    }\n",
       "\n",
       "    if(typeof define === \"function\" && define.amd) {\n",
       "      requirejs.config({paths});\n",
       "      require([\"vega-embed\"], displayChart, err => showError(`Error loading script: ${err.message}`));\n",
       "    } else if (typeof vegaEmbed === \"function\") {\n",
       "      displayChart(vegaEmbed);\n",
       "    } else {\n",
       "      loadScript(\"vega\")\n",
       "        .then(() => loadScript(\"vega-lite\"))\n",
       "        .then(() => loadScript(\"vega-embed\"))\n",
       "        .catch(showError)\n",
       "        .then(() => displayChart(vegaEmbed));\n",
       "    }\n",
       "  })({\"config\": {\"view\": {\"continuousWidth\": 400, \"continuousHeight\": 300}}, \"repeat\": {\"column\": [\"sepalLength\", \"sepalWidth\", \"petalLength\", \"petalWidth\"], \"row\": [\"sepalLength\", \"sepalWidth\", \"petalLength\", \"petalWidth\"]}, \"spec\": {\"data\": {\"name\": \"data-a264acbd6e539a8b3afc0cb5f240fb57\"}, \"mark\": \"circle\", \"encoding\": {\"color\": {\"type\": \"nominal\", \"field\": \"species\"}, \"x\": {\"type\": \"quantitative\", \"field\": {\"repeat\": \"column\"}}, \"y\": {\"type\": \"quantitative\", \"field\": {\"repeat\": \"row\"}}}, \"height\": 150, \"selection\": {\"selector001\": {\"type\": \"interval\", \"bind\": \"scales\", \"encodings\": [\"x\", \"y\"]}}, \"width\": 150}, \"$schema\": \"https://vega.github.io/schema/vega-lite/v4.8.1.json\", \"datasets\": {\"data-a264acbd6e539a8b3afc0cb5f240fb57\": [{\"sepalLength\": 5.1, \"sepalWidth\": 3.5, \"petalLength\": 1.4, \"petalWidth\": 0.2, \"species\": \"setosa\"}, {\"sepalLength\": 4.9, \"sepalWidth\": 3.0, \"petalLength\": 1.4, \"petalWidth\": 0.2, \"species\": \"setosa\"}, {\"sepalLength\": 4.7, \"sepalWidth\": 3.2, \"petalLength\": 1.3, \"petalWidth\": 0.2, \"species\": \"setosa\"}, {\"sepalLength\": 4.6, \"sepalWidth\": 3.1, \"petalLength\": 1.5, \"petalWidth\": 0.2, \"species\": \"setosa\"}, {\"sepalLength\": 5.0, \"sepalWidth\": 3.6, \"petalLength\": 1.4, \"petalWidth\": 0.2, \"species\": \"setosa\"}, {\"sepalLength\": 5.4, \"sepalWidth\": 3.9, \"petalLength\": 1.7000000000000002, \"petalWidth\": 0.4, \"species\": \"setosa\"}, {\"sepalLength\": 4.6, \"sepalWidth\": 3.4, \"petalLength\": 1.4, \"petalWidth\": 0.30000000000000004, \"species\": \"setosa\"}, {\"sepalLength\": 5.0, \"sepalWidth\": 3.4, \"petalLength\": 1.5, \"petalWidth\": 0.2, \"species\": \"setosa\"}, {\"sepalLength\": 4.4, \"sepalWidth\": 2.9, \"petalLength\": 1.4, \"petalWidth\": 0.2, \"species\": \"setosa\"}, {\"sepalLength\": 4.9, \"sepalWidth\": 3.1, \"petalLength\": 1.5, \"petalWidth\": 0.1, \"species\": \"setosa\"}, {\"sepalLength\": 5.4, \"sepalWidth\": 3.7, \"petalLength\": 1.5, \"petalWidth\": 0.2, \"species\": \"setosa\"}, {\"sepalLength\": 4.8, \"sepalWidth\": 3.4, \"petalLength\": 1.6, \"petalWidth\": 0.2, \"species\": \"setosa\"}, {\"sepalLength\": 4.8, \"sepalWidth\": 3.0, \"petalLength\": 1.4, \"petalWidth\": 0.1, \"species\": \"setosa\"}, {\"sepalLength\": 4.3, \"sepalWidth\": 3.0, \"petalLength\": 1.1, \"petalWidth\": 0.1, \"species\": \"setosa\"}, {\"sepalLength\": 5.8, \"sepalWidth\": 4.0, \"petalLength\": 1.2, \"petalWidth\": 0.2, \"species\": \"setosa\"}, {\"sepalLength\": 5.7, \"sepalWidth\": 4.4, \"petalLength\": 1.5, \"petalWidth\": 0.4, \"species\": \"setosa\"}, {\"sepalLength\": 5.4, \"sepalWidth\": 3.9, \"petalLength\": 1.3, \"petalWidth\": 0.4, \"species\": \"setosa\"}, {\"sepalLength\": 5.1, \"sepalWidth\": 3.5, \"petalLength\": 1.4, \"petalWidth\": 0.30000000000000004, \"species\": \"setosa\"}, {\"sepalLength\": 5.7, \"sepalWidth\": 3.8, \"petalLength\": 1.7000000000000002, \"petalWidth\": 0.30000000000000004, \"species\": \"setosa\"}, {\"sepalLength\": 5.1, \"sepalWidth\": 3.8, \"petalLength\": 1.5, \"petalWidth\": 0.30000000000000004, \"species\": \"setosa\"}, {\"sepalLength\": 5.4, \"sepalWidth\": 3.4, \"petalLength\": 1.7000000000000002, \"petalWidth\": 0.2, \"species\": \"setosa\"}, {\"sepalLength\": 5.1, \"sepalWidth\": 3.7, \"petalLength\": 1.5, \"petalWidth\": 0.4, \"species\": \"setosa\"}, {\"sepalLength\": 4.6, \"sepalWidth\": 3.6, \"petalLength\": 1.0, \"petalWidth\": 0.2, \"species\": \"setosa\"}, {\"sepalLength\": 5.1, \"sepalWidth\": 3.3, \"petalLength\": 1.7000000000000002, \"petalWidth\": 0.5, \"species\": \"setosa\"}, {\"sepalLength\": 4.8, \"sepalWidth\": 3.4, \"petalLength\": 1.9, \"petalWidth\": 0.2, \"species\": \"setosa\"}, {\"sepalLength\": 5.0, \"sepalWidth\": 3.0, \"petalLength\": 1.6, \"petalWidth\": 0.2, \"species\": \"setosa\"}, {\"sepalLength\": 5.0, \"sepalWidth\": 3.4, \"petalLength\": 1.6, \"petalWidth\": 0.4, \"species\": \"setosa\"}, {\"sepalLength\": 5.2, \"sepalWidth\": 3.5, \"petalLength\": 1.5, \"petalWidth\": 0.2, \"species\": \"setosa\"}, {\"sepalLength\": 5.2, \"sepalWidth\": 3.4, \"petalLength\": 1.4, \"petalWidth\": 0.2, \"species\": \"setosa\"}, {\"sepalLength\": 4.7, \"sepalWidth\": 3.2, \"petalLength\": 1.6, \"petalWidth\": 0.2, \"species\": \"setosa\"}, {\"sepalLength\": 4.8, \"sepalWidth\": 3.1, \"petalLength\": 1.6, \"petalWidth\": 0.2, \"species\": \"setosa\"}, {\"sepalLength\": 5.4, \"sepalWidth\": 3.4, \"petalLength\": 1.5, \"petalWidth\": 0.4, \"species\": \"setosa\"}, {\"sepalLength\": 5.2, \"sepalWidth\": 4.1, \"petalLength\": 1.5, \"petalWidth\": 0.1, \"species\": \"setosa\"}, {\"sepalLength\": 5.5, \"sepalWidth\": 4.2, \"petalLength\": 1.4, \"petalWidth\": 0.2, \"species\": \"setosa\"}, {\"sepalLength\": 4.9, \"sepalWidth\": 3.1, \"petalLength\": 1.5, \"petalWidth\": 0.2, \"species\": \"setosa\"}, {\"sepalLength\": 5.0, \"sepalWidth\": 3.2, \"petalLength\": 1.2, \"petalWidth\": 0.2, \"species\": \"setosa\"}, {\"sepalLength\": 5.5, \"sepalWidth\": 3.5, \"petalLength\": 1.3, \"petalWidth\": 0.2, \"species\": \"setosa\"}, {\"sepalLength\": 4.9, \"sepalWidth\": 3.6, \"petalLength\": 1.4, \"petalWidth\": 0.1, \"species\": \"setosa\"}, {\"sepalLength\": 4.4, \"sepalWidth\": 3.0, \"petalLength\": 1.3, \"petalWidth\": 0.2, \"species\": \"setosa\"}, {\"sepalLength\": 5.1, \"sepalWidth\": 3.4, \"petalLength\": 1.5, \"petalWidth\": 0.2, \"species\": \"setosa\"}, {\"sepalLength\": 5.0, \"sepalWidth\": 3.5, \"petalLength\": 1.3, \"petalWidth\": 0.30000000000000004, \"species\": \"setosa\"}, {\"sepalLength\": 4.5, \"sepalWidth\": 2.3, \"petalLength\": 1.3, \"petalWidth\": 0.30000000000000004, \"species\": \"setosa\"}, {\"sepalLength\": 4.4, \"sepalWidth\": 3.2, \"petalLength\": 1.3, \"petalWidth\": 0.2, \"species\": \"setosa\"}, {\"sepalLength\": 5.0, \"sepalWidth\": 3.5, \"petalLength\": 1.6, \"petalWidth\": 0.6000000000000001, \"species\": \"setosa\"}, {\"sepalLength\": 5.1, \"sepalWidth\": 3.8, \"petalLength\": 1.9, \"petalWidth\": 0.4, \"species\": \"setosa\"}, {\"sepalLength\": 4.8, \"sepalWidth\": 3.0, \"petalLength\": 1.4, \"petalWidth\": 0.30000000000000004, \"species\": \"setosa\"}, {\"sepalLength\": 5.1, \"sepalWidth\": 3.8, \"petalLength\": 1.6, \"petalWidth\": 0.2, \"species\": \"setosa\"}, {\"sepalLength\": 4.6, \"sepalWidth\": 3.2, \"petalLength\": 1.4, \"petalWidth\": 0.2, \"species\": \"setosa\"}, {\"sepalLength\": 5.3, \"sepalWidth\": 3.7, \"petalLength\": 1.5, \"petalWidth\": 0.2, \"species\": \"setosa\"}, {\"sepalLength\": 5.0, \"sepalWidth\": 3.3, \"petalLength\": 1.4, \"petalWidth\": 0.2, \"species\": \"setosa\"}, {\"sepalLength\": 7.0, \"sepalWidth\": 3.2, \"petalLength\": 4.7, \"petalWidth\": 1.4, \"species\": \"versicolor\"}, {\"sepalLength\": 6.4, \"sepalWidth\": 3.2, \"petalLength\": 4.5, \"petalWidth\": 1.5, \"species\": \"versicolor\"}, {\"sepalLength\": 6.9, \"sepalWidth\": 3.1, \"petalLength\": 4.9, \"petalWidth\": 1.5, \"species\": \"versicolor\"}, {\"sepalLength\": 5.5, \"sepalWidth\": 2.3, \"petalLength\": 4.0, \"petalWidth\": 1.3, \"species\": \"versicolor\"}, {\"sepalLength\": 6.5, \"sepalWidth\": 2.8, \"petalLength\": 4.6, \"petalWidth\": 1.5, \"species\": \"versicolor\"}, {\"sepalLength\": 5.7, \"sepalWidth\": 2.8, \"petalLength\": 4.5, \"petalWidth\": 1.3, \"species\": \"versicolor\"}, {\"sepalLength\": 6.3, \"sepalWidth\": 3.3, \"petalLength\": 4.7, \"petalWidth\": 1.6, \"species\": \"versicolor\"}, {\"sepalLength\": 4.9, \"sepalWidth\": 2.4, \"petalLength\": 3.3, \"petalWidth\": 1.0, \"species\": \"versicolor\"}, {\"sepalLength\": 6.6, \"sepalWidth\": 2.9, \"petalLength\": 4.6, \"petalWidth\": 1.3, \"species\": \"versicolor\"}, {\"sepalLength\": 5.2, \"sepalWidth\": 2.7, \"petalLength\": 3.9, \"petalWidth\": 1.4, \"species\": \"versicolor\"}, {\"sepalLength\": 5.0, \"sepalWidth\": 2.0, \"petalLength\": 3.5, \"petalWidth\": 1.0, \"species\": \"versicolor\"}, {\"sepalLength\": 5.9, \"sepalWidth\": 3.0, \"petalLength\": 4.2, \"petalWidth\": 1.5, \"species\": \"versicolor\"}, {\"sepalLength\": 6.0, \"sepalWidth\": 2.2, \"petalLength\": 4.0, \"petalWidth\": 1.0, \"species\": \"versicolor\"}, {\"sepalLength\": 6.1, \"sepalWidth\": 2.9, \"petalLength\": 4.7, \"petalWidth\": 1.4, \"species\": \"versicolor\"}, {\"sepalLength\": 5.6, \"sepalWidth\": 2.9, \"petalLength\": 3.6, \"petalWidth\": 1.3, \"species\": \"versicolor\"}, {\"sepalLength\": 6.7, \"sepalWidth\": 3.1, \"petalLength\": 4.4, \"petalWidth\": 1.4, \"species\": \"versicolor\"}, {\"sepalLength\": 5.6, \"sepalWidth\": 3.0, \"petalLength\": 4.5, \"petalWidth\": 1.5, \"species\": \"versicolor\"}, {\"sepalLength\": 5.8, \"sepalWidth\": 2.7, \"petalLength\": 4.1, \"petalWidth\": 1.0, \"species\": \"versicolor\"}, {\"sepalLength\": 6.2, \"sepalWidth\": 2.2, \"petalLength\": 4.5, \"petalWidth\": 1.5, \"species\": \"versicolor\"}, {\"sepalLength\": 5.6, \"sepalWidth\": 2.5, \"petalLength\": 3.9, \"petalWidth\": 1.1, \"species\": \"versicolor\"}, {\"sepalLength\": 5.9, \"sepalWidth\": 3.2, \"petalLength\": 4.8, \"petalWidth\": 1.8, \"species\": \"versicolor\"}, {\"sepalLength\": 6.1, \"sepalWidth\": 2.8, \"petalLength\": 4.0, \"petalWidth\": 1.3, \"species\": \"versicolor\"}, {\"sepalLength\": 6.3, \"sepalWidth\": 2.5, \"petalLength\": 4.9, \"petalWidth\": 1.5, \"species\": \"versicolor\"}, {\"sepalLength\": 6.1, \"sepalWidth\": 2.8, \"petalLength\": 4.7, \"petalWidth\": 1.2, \"species\": \"versicolor\"}, {\"sepalLength\": 6.4, \"sepalWidth\": 2.9, \"petalLength\": 4.3, \"petalWidth\": 1.3, \"species\": \"versicolor\"}, {\"sepalLength\": 6.6, \"sepalWidth\": 3.0, \"petalLength\": 4.4, \"petalWidth\": 1.4, \"species\": \"versicolor\"}, {\"sepalLength\": 6.8, \"sepalWidth\": 2.8, \"petalLength\": 4.8, \"petalWidth\": 1.4, \"species\": \"versicolor\"}, {\"sepalLength\": 6.7, \"sepalWidth\": 3.0, \"petalLength\": 5.0, \"petalWidth\": 1.7000000000000002, \"species\": \"versicolor\"}, {\"sepalLength\": 6.0, \"sepalWidth\": 2.9, \"petalLength\": 4.5, \"petalWidth\": 1.5, \"species\": \"versicolor\"}, {\"sepalLength\": 5.7, \"sepalWidth\": 2.6, \"petalLength\": 3.5, \"petalWidth\": 1.0, \"species\": \"versicolor\"}, {\"sepalLength\": 5.5, \"sepalWidth\": 2.4, \"petalLength\": 3.8, \"petalWidth\": 1.1, \"species\": \"versicolor\"}, {\"sepalLength\": 5.5, \"sepalWidth\": 2.4, \"petalLength\": 3.7, \"petalWidth\": 1.0, \"species\": \"versicolor\"}, {\"sepalLength\": 5.8, \"sepalWidth\": 2.7, \"petalLength\": 3.9, \"petalWidth\": 1.2, \"species\": \"versicolor\"}, {\"sepalLength\": 6.0, \"sepalWidth\": 2.7, \"petalLength\": 5.1, \"petalWidth\": 1.6, \"species\": \"versicolor\"}, {\"sepalLength\": 5.4, \"sepalWidth\": 3.0, \"petalLength\": 4.5, \"petalWidth\": 1.5, \"species\": \"versicolor\"}, {\"sepalLength\": 6.0, \"sepalWidth\": 3.4, \"petalLength\": 4.5, \"petalWidth\": 1.6, \"species\": \"versicolor\"}, {\"sepalLength\": 6.7, \"sepalWidth\": 3.1, \"petalLength\": 4.7, \"petalWidth\": 1.5, \"species\": \"versicolor\"}, {\"sepalLength\": 6.3, \"sepalWidth\": 2.3, \"petalLength\": 4.4, \"petalWidth\": 1.3, \"species\": \"versicolor\"}, {\"sepalLength\": 5.6, \"sepalWidth\": 3.0, \"petalLength\": 4.1, \"petalWidth\": 1.3, \"species\": \"versicolor\"}, {\"sepalLength\": 5.5, \"sepalWidth\": 2.5, \"petalLength\": 4.0, \"petalWidth\": 1.3, \"species\": \"versicolor\"}, {\"sepalLength\": 5.5, \"sepalWidth\": 2.6, \"petalLength\": 4.4, \"petalWidth\": 1.2, \"species\": \"versicolor\"}, {\"sepalLength\": 6.1, \"sepalWidth\": 3.0, \"petalLength\": 4.6, \"petalWidth\": 1.4, \"species\": \"versicolor\"}, {\"sepalLength\": 5.8, \"sepalWidth\": 2.6, \"petalLength\": 4.0, \"petalWidth\": 1.2, \"species\": \"versicolor\"}, {\"sepalLength\": 5.0, \"sepalWidth\": 2.3, \"petalLength\": 3.3, \"petalWidth\": 1.0, \"species\": \"versicolor\"}, {\"sepalLength\": 5.6, \"sepalWidth\": 2.7, \"petalLength\": 4.2, \"petalWidth\": 1.3, \"species\": \"versicolor\"}, {\"sepalLength\": 5.7, \"sepalWidth\": 3.0, \"petalLength\": 4.2, \"petalWidth\": 1.2, \"species\": \"versicolor\"}, {\"sepalLength\": 5.7, \"sepalWidth\": 2.9, \"petalLength\": 4.2, \"petalWidth\": 1.3, \"species\": \"versicolor\"}, {\"sepalLength\": 6.2, \"sepalWidth\": 2.9, \"petalLength\": 4.3, \"petalWidth\": 1.3, \"species\": \"versicolor\"}, {\"sepalLength\": 5.1, \"sepalWidth\": 2.5, \"petalLength\": 3.0, \"petalWidth\": 1.1, \"species\": \"versicolor\"}, {\"sepalLength\": 5.7, \"sepalWidth\": 2.8, \"petalLength\": 4.1, \"petalWidth\": 1.3, \"species\": \"versicolor\"}, {\"sepalLength\": 6.3, \"sepalWidth\": 3.3, \"petalLength\": 6.0, \"petalWidth\": 2.5, \"species\": \"virginica\"}, {\"sepalLength\": 5.8, \"sepalWidth\": 2.7, \"petalLength\": 5.1, \"petalWidth\": 1.9, \"species\": \"virginica\"}, {\"sepalLength\": 7.1, \"sepalWidth\": 3.0, \"petalLength\": 5.9, \"petalWidth\": 2.1, \"species\": \"virginica\"}, {\"sepalLength\": 6.3, \"sepalWidth\": 2.9, \"petalLength\": 5.6, \"petalWidth\": 1.8, \"species\": \"virginica\"}, {\"sepalLength\": 6.5, \"sepalWidth\": 3.0, \"petalLength\": 5.8, \"petalWidth\": 2.2, \"species\": \"virginica\"}, {\"sepalLength\": 7.6, \"sepalWidth\": 3.0, \"petalLength\": 6.6, \"petalWidth\": 2.1, \"species\": \"virginica\"}, {\"sepalLength\": 4.9, \"sepalWidth\": 2.5, \"petalLength\": 4.5, \"petalWidth\": 1.7000000000000002, \"species\": \"virginica\"}, {\"sepalLength\": 7.3, \"sepalWidth\": 2.9, \"petalLength\": 6.3, \"petalWidth\": 1.8, \"species\": \"virginica\"}, {\"sepalLength\": 6.7, \"sepalWidth\": 2.5, \"petalLength\": 5.8, \"petalWidth\": 1.8, \"species\": \"virginica\"}, {\"sepalLength\": 7.2, \"sepalWidth\": 3.6, \"petalLength\": 6.1, \"petalWidth\": 2.5, \"species\": \"virginica\"}, {\"sepalLength\": 6.5, \"sepalWidth\": 3.2, \"petalLength\": 5.1, \"petalWidth\": 2.0, \"species\": \"virginica\"}, {\"sepalLength\": 6.4, \"sepalWidth\": 2.7, \"petalLength\": 5.3, \"petalWidth\": 1.9, \"species\": \"virginica\"}, {\"sepalLength\": 6.8, \"sepalWidth\": 3.0, \"petalLength\": 5.5, \"petalWidth\": 2.1, \"species\": \"virginica\"}, {\"sepalLength\": 5.7, \"sepalWidth\": 2.5, \"petalLength\": 5.0, \"petalWidth\": 2.0, \"species\": \"virginica\"}, {\"sepalLength\": 5.8, \"sepalWidth\": 2.8, \"petalLength\": 5.1, \"petalWidth\": 2.4, \"species\": \"virginica\"}, {\"sepalLength\": 6.4, \"sepalWidth\": 3.2, \"petalLength\": 5.3, \"petalWidth\": 2.3, \"species\": \"virginica\"}, {\"sepalLength\": 6.5, \"sepalWidth\": 3.0, \"petalLength\": 5.5, \"petalWidth\": 1.8, \"species\": \"virginica\"}, {\"sepalLength\": 7.7, \"sepalWidth\": 3.8, \"petalLength\": 6.7, \"petalWidth\": 2.2, \"species\": \"virginica\"}, {\"sepalLength\": 7.7, \"sepalWidth\": 2.6, \"petalLength\": 6.9, \"petalWidth\": 2.3, \"species\": \"virginica\"}, {\"sepalLength\": 6.0, \"sepalWidth\": 2.2, \"petalLength\": 5.0, \"petalWidth\": 1.5, \"species\": \"virginica\"}, {\"sepalLength\": 6.9, \"sepalWidth\": 3.2, \"petalLength\": 5.7, \"petalWidth\": 2.3, \"species\": \"virginica\"}, {\"sepalLength\": 5.6, \"sepalWidth\": 2.8, \"petalLength\": 4.9, \"petalWidth\": 2.0, \"species\": \"virginica\"}, {\"sepalLength\": 7.7, \"sepalWidth\": 2.8, \"petalLength\": 6.7, \"petalWidth\": 2.0, \"species\": \"virginica\"}, {\"sepalLength\": 6.3, \"sepalWidth\": 2.7, \"petalLength\": 4.9, \"petalWidth\": 1.8, \"species\": \"virginica\"}, {\"sepalLength\": 6.7, \"sepalWidth\": 3.3, \"petalLength\": 5.7, \"petalWidth\": 2.1, \"species\": \"virginica\"}, {\"sepalLength\": 7.2, \"sepalWidth\": 3.2, \"petalLength\": 6.0, \"petalWidth\": 1.8, \"species\": \"virginica\"}, {\"sepalLength\": 6.2, \"sepalWidth\": 2.8, \"petalLength\": 4.8, \"petalWidth\": 1.8, \"species\": \"virginica\"}, {\"sepalLength\": 6.1, \"sepalWidth\": 3.0, \"petalLength\": 4.9, \"petalWidth\": 1.8, \"species\": \"virginica\"}, {\"sepalLength\": 6.4, \"sepalWidth\": 2.8, \"petalLength\": 5.6, \"petalWidth\": 2.1, \"species\": \"virginica\"}, {\"sepalLength\": 7.2, \"sepalWidth\": 3.0, \"petalLength\": 5.8, \"petalWidth\": 1.6, \"species\": \"virginica\"}, {\"sepalLength\": 7.4, \"sepalWidth\": 2.8, \"petalLength\": 6.1, \"petalWidth\": 1.9, \"species\": \"virginica\"}, {\"sepalLength\": 7.9, \"sepalWidth\": 3.8, \"petalLength\": 6.4, \"petalWidth\": 2.0, \"species\": \"virginica\"}, {\"sepalLength\": 6.4, \"sepalWidth\": 2.8, \"petalLength\": 5.6, \"petalWidth\": 2.2, \"species\": \"virginica\"}, {\"sepalLength\": 6.3, \"sepalWidth\": 2.8, \"petalLength\": 5.1, \"petalWidth\": 1.5, \"species\": \"virginica\"}, {\"sepalLength\": 6.1, \"sepalWidth\": 2.6, \"petalLength\": 5.6, \"petalWidth\": 1.4, \"species\": \"virginica\"}, {\"sepalLength\": 7.7, \"sepalWidth\": 3.0, \"petalLength\": 6.1, \"petalWidth\": 2.3, \"species\": \"virginica\"}, {\"sepalLength\": 6.3, \"sepalWidth\": 3.4, \"petalLength\": 5.6, \"petalWidth\": 2.4, \"species\": \"virginica\"}, {\"sepalLength\": 6.4, \"sepalWidth\": 3.1, \"petalLength\": 5.5, \"petalWidth\": 1.8, \"species\": \"virginica\"}, {\"sepalLength\": 6.0, \"sepalWidth\": 3.0, \"petalLength\": 4.8, \"petalWidth\": 1.8, \"species\": \"virginica\"}, {\"sepalLength\": 6.9, \"sepalWidth\": 3.1, \"petalLength\": 5.4, \"petalWidth\": 2.1, \"species\": \"virginica\"}, {\"sepalLength\": 6.7, \"sepalWidth\": 3.1, \"petalLength\": 5.6, \"petalWidth\": 2.4, \"species\": \"virginica\"}, {\"sepalLength\": 6.9, \"sepalWidth\": 3.1, \"petalLength\": 5.1, \"petalWidth\": 2.3, \"species\": \"virginica\"}, {\"sepalLength\": 5.8, \"sepalWidth\": 2.7, \"petalLength\": 5.1, \"petalWidth\": 1.9, \"species\": \"virginica\"}, {\"sepalLength\": 6.8, \"sepalWidth\": 3.2, \"petalLength\": 5.9, \"petalWidth\": 2.3, \"species\": \"virginica\"}, {\"sepalLength\": 6.7, \"sepalWidth\": 3.3, \"petalLength\": 5.7, \"petalWidth\": 2.5, \"species\": \"virginica\"}, {\"sepalLength\": 6.7, \"sepalWidth\": 3.0, \"petalLength\": 5.2, \"petalWidth\": 2.3, \"species\": \"virginica\"}, {\"sepalLength\": 6.3, \"sepalWidth\": 2.5, \"petalLength\": 5.0, \"petalWidth\": 1.9, \"species\": \"virginica\"}, {\"sepalLength\": 6.5, \"sepalWidth\": 3.0, \"petalLength\": 5.2, \"petalWidth\": 2.0, \"species\": \"virginica\"}, {\"sepalLength\": 6.2, \"sepalWidth\": 3.4, \"petalLength\": 5.4, \"petalWidth\": 2.3, \"species\": \"virginica\"}, {\"sepalLength\": 5.9, \"sepalWidth\": 3.0, \"petalLength\": 5.1, \"petalWidth\": 1.8, \"species\": \"virginica\"}]}}, {\"mode\": \"vega-lite\"});\n",
       "</script>"
      ],
      "text/plain": [
       "alt.RepeatChart(...)"
      ]
     },
     "execution_count": 4,
     "metadata": {},
     "output_type": "execute_result"
    }
   ],
   "source": [
    "alt.Chart(df_iris).mark_circle().encode(\n",
    "    alt.X(alt.repeat(\"column\"), type='quantitative'),\n",
    "    alt.Y(alt.repeat(\"row\"), type='quantitative'),\n",
    "    color='species:N'\n",
    ").properties(\n",
    "    width=150,\n",
    "    height=150\n",
    ").repeat(\n",
    "    row=['sepalLength', 'sepalWidth', 'petalLength', 'petalWidth'],\n",
    "    column=['sepalLength', 'sepalWidth', 'petalLength', 'petalWidth']\n",
    ").interactive()"
   ]
  },
  {
   "cell_type": "markdown",
   "id": "incorporate-abortion",
   "metadata": {},
   "source": [
    "# Projections\n",
    "\n",
    "## TSNE"
   ]
  },
  {
   "cell_type": "code",
   "execution_count": 5,
   "id": "august-creation",
   "metadata": {
    "collapsed": true,
    "jupyter": {
     "outputs_hidden": true
    },
    "tags": []
   },
   "outputs": [
    {
     "name": "stderr",
     "output_type": "stream",
     "text": [
      "/home/klaus/anaconda3/envs/boilerplate/lib/python3.8/site-packages/openTSNE/callbacks.py:52: FutureWarning: `ErrorLogger` will be removed in upcoming version. Please use the `verbose` flag instead.\n",
      "  warnings.warn(\n"
     ]
    }
   ],
   "source": [
    "tsne = TSNE(\n",
    "    perplexity=30,\n",
    "    metric=\"euclidean\",\n",
    "    callbacks=ErrorLogger(),\n",
    "    n_jobs=8,\n",
    "    random_state=42,\n",
    ")"
   ]
  },
  {
   "cell_type": "code",
   "execution_count": 6,
   "id": "strategic-wrapping",
   "metadata": {},
   "outputs": [
    {
     "data": {
      "text/html": [
       "<div>\n",
       "<style scoped>\n",
       "    .dataframe tbody tr th:only-of-type {\n",
       "        vertical-align: middle;\n",
       "    }\n",
       "\n",
       "    .dataframe tbody tr th {\n",
       "        vertical-align: top;\n",
       "    }\n",
       "\n",
       "    .dataframe thead th {\n",
       "        text-align: right;\n",
       "    }\n",
       "</style>\n",
       "<table border=\"1\" class=\"dataframe\">\n",
       "  <thead>\n",
       "    <tr style=\"text-align: right;\">\n",
       "      <th></th>\n",
       "      <th>sepalLength</th>\n",
       "      <th>sepalWidth</th>\n",
       "      <th>petalLength</th>\n",
       "      <th>petalWidth</th>\n",
       "    </tr>\n",
       "  </thead>\n",
       "  <tbody>\n",
       "    <tr>\n",
       "      <th>0</th>\n",
       "      <td>5.1</td>\n",
       "      <td>3.5</td>\n",
       "      <td>1.4</td>\n",
       "      <td>0.2</td>\n",
       "    </tr>\n",
       "    <tr>\n",
       "      <th>1</th>\n",
       "      <td>4.9</td>\n",
       "      <td>3.0</td>\n",
       "      <td>1.4</td>\n",
       "      <td>0.2</td>\n",
       "    </tr>\n",
       "    <tr>\n",
       "      <th>2</th>\n",
       "      <td>4.7</td>\n",
       "      <td>3.2</td>\n",
       "      <td>1.3</td>\n",
       "      <td>0.2</td>\n",
       "    </tr>\n",
       "    <tr>\n",
       "      <th>3</th>\n",
       "      <td>4.6</td>\n",
       "      <td>3.1</td>\n",
       "      <td>1.5</td>\n",
       "      <td>0.2</td>\n",
       "    </tr>\n",
       "    <tr>\n",
       "      <th>4</th>\n",
       "      <td>5.0</td>\n",
       "      <td>3.6</td>\n",
       "      <td>1.4</td>\n",
       "      <td>0.2</td>\n",
       "    </tr>\n",
       "  </tbody>\n",
       "</table>\n",
       "</div>"
      ],
      "text/plain": [
       "   sepalLength  sepalWidth  petalLength  petalWidth\n",
       "0          5.1         3.5          1.4         0.2\n",
       "1          4.9         3.0          1.4         0.2\n",
       "2          4.7         3.2          1.3         0.2\n",
       "3          4.6         3.1          1.5         0.2\n",
       "4          5.0         3.6          1.4         0.2"
      ]
     },
     "execution_count": 6,
     "metadata": {},
     "output_type": "execute_result"
    }
   ],
   "source": [
    "features= df_iris.drop('species', axis=1)\n",
    "features.head()"
   ]
  },
  {
   "cell_type": "code",
   "execution_count": 7,
   "id": "attempted-dividend",
   "metadata": {
    "collapsed": true,
    "jupyter": {
     "outputs_hidden": true
    },
    "tags": []
   },
   "outputs": [
    {
     "name": "stdout",
     "output_type": "stream",
     "text": [
      "Iteration   50, KL divergence  1.1364, 50 iterations in 1.9022 sec\n",
      "Iteration  100, KL divergence  1.1078, 50 iterations in 1.7765 sec\n",
      "Iteration  150, KL divergence  1.0306, 50 iterations in 1.6731 sec\n",
      "Iteration  200, KL divergence  1.0568, 50 iterations in 1.6121 sec\n",
      "Iteration  250, KL divergence  1.0770, 50 iterations in 1.6388 sec\n",
      "Iteration   50, KL divergence  0.1480, 50 iterations in 1.5358 sec\n",
      "Iteration  100, KL divergence  0.1315, 50 iterations in 1.5423 sec\n",
      "Iteration  150, KL divergence  0.1284, 50 iterations in 1.6647 sec\n",
      "Iteration  200, KL divergence  0.1270, 50 iterations in 1.5258 sec\n",
      "Iteration  250, KL divergence  0.1263, 50 iterations in 1.5431 sec\n",
      "Iteration  300, KL divergence  0.1255, 50 iterations in 1.6342 sec\n",
      "Iteration  350, KL divergence  0.1255, 50 iterations in 1.5381 sec\n",
      "Iteration  400, KL divergence  0.1250, 50 iterations in 1.6032 sec\n",
      "Iteration  450, KL divergence  0.1247, 50 iterations in 1.5122 sec\n",
      "Iteration  500, KL divergence  0.1247, 50 iterations in 1.5849 sec\n",
      "CPU times: user 51.9 s, sys: 4.14 s, total: 56 s\n",
      "Wall time: 24.4 s\n"
     ]
    }
   ],
   "source": [
    "%time tsne = tsne.fit(features)"
   ]
  },
  {
   "cell_type": "code",
   "execution_count": 8,
   "id": "unlike-means",
   "metadata": {},
   "outputs": [],
   "source": [
    "df_tsne_coords = pd.DataFrame(tsne, columns=['tsneX','tsneY'])"
   ]
  },
  {
   "cell_type": "markdown",
   "id": "grand-franklin",
   "metadata": {},
   "source": [
    "## UMAP"
   ]
  },
  {
   "cell_type": "code",
   "execution_count": 9,
   "id": "virgin-operator",
   "metadata": {},
   "outputs": [
    {
     "name": "stdout",
     "output_type": "stream",
     "text": [
      "CPU times: user 15.2 s, sys: 651 ms, total: 15.8 s\n",
      "Wall time: 14.1 s\n"
     ]
    }
   ],
   "source": [
    "reducer = UMAP()\n",
    "%time umap = reducer.fit_transform(features)"
   ]
  },
  {
   "cell_type": "code",
   "execution_count": 10,
   "id": "suitable-carnival",
   "metadata": {},
   "outputs": [
    {
     "data": {
      "text/html": [
       "<div>\n",
       "<style scoped>\n",
       "    .dataframe tbody tr th:only-of-type {\n",
       "        vertical-align: middle;\n",
       "    }\n",
       "\n",
       "    .dataframe tbody tr th {\n",
       "        vertical-align: top;\n",
       "    }\n",
       "\n",
       "    .dataframe thead th {\n",
       "        text-align: right;\n",
       "    }\n",
       "</style>\n",
       "<table border=\"1\" class=\"dataframe\">\n",
       "  <thead>\n",
       "    <tr style=\"text-align: right;\">\n",
       "      <th></th>\n",
       "      <th>sepalLength</th>\n",
       "      <th>sepalWidth</th>\n",
       "      <th>petalLength</th>\n",
       "      <th>petalWidth</th>\n",
       "      <th>species</th>\n",
       "      <th>umapX</th>\n",
       "      <th>umapY</th>\n",
       "      <th>tsneX</th>\n",
       "      <th>tsneY</th>\n",
       "    </tr>\n",
       "  </thead>\n",
       "  <tbody>\n",
       "    <tr>\n",
       "      <th>145</th>\n",
       "      <td>6.7</td>\n",
       "      <td>3.0</td>\n",
       "      <td>5.2</td>\n",
       "      <td>2.3</td>\n",
       "      <td>virginica</td>\n",
       "      <td>-6.661554</td>\n",
       "      <td>4.250466</td>\n",
       "      <td>-4.391177</td>\n",
       "      <td>-11.465600</td>\n",
       "    </tr>\n",
       "    <tr>\n",
       "      <th>146</th>\n",
       "      <td>6.3</td>\n",
       "      <td>2.5</td>\n",
       "      <td>5.0</td>\n",
       "      <td>1.9</td>\n",
       "      <td>virginica</td>\n",
       "      <td>-5.580895</td>\n",
       "      <td>6.313456</td>\n",
       "      <td>-1.166145</td>\n",
       "      <td>-10.687645</td>\n",
       "    </tr>\n",
       "    <tr>\n",
       "      <th>147</th>\n",
       "      <td>6.5</td>\n",
       "      <td>3.0</td>\n",
       "      <td>5.2</td>\n",
       "      <td>2.0</td>\n",
       "      <td>virginica</td>\n",
       "      <td>-6.243613</td>\n",
       "      <td>4.634127</td>\n",
       "      <td>-3.518850</td>\n",
       "      <td>-11.133073</td>\n",
       "    </tr>\n",
       "    <tr>\n",
       "      <th>148</th>\n",
       "      <td>6.2</td>\n",
       "      <td>3.4</td>\n",
       "      <td>5.4</td>\n",
       "      <td>2.3</td>\n",
       "      <td>virginica</td>\n",
       "      <td>-6.123681</td>\n",
       "      <td>3.986008</td>\n",
       "      <td>-4.634979</td>\n",
       "      <td>-12.404978</td>\n",
       "    </tr>\n",
       "    <tr>\n",
       "      <th>149</th>\n",
       "      <td>5.9</td>\n",
       "      <td>3.0</td>\n",
       "      <td>5.1</td>\n",
       "      <td>1.8</td>\n",
       "      <td>virginica</td>\n",
       "      <td>-5.836457</td>\n",
       "      <td>6.959194</td>\n",
       "      <td>0.069250</td>\n",
       "      <td>-11.517223</td>\n",
       "    </tr>\n",
       "  </tbody>\n",
       "</table>\n",
       "</div>"
      ],
      "text/plain": [
       "     sepalLength  sepalWidth  petalLength  petalWidth    species     umapX  \\\n",
       "145          6.7         3.0          5.2         2.3  virginica -6.661554   \n",
       "146          6.3         2.5          5.0         1.9  virginica -5.580895   \n",
       "147          6.5         3.0          5.2         2.0  virginica -6.243613   \n",
       "148          6.2         3.4          5.4         2.3  virginica -6.123681   \n",
       "149          5.9         3.0          5.1         1.8  virginica -5.836457   \n",
       "\n",
       "        umapY     tsneX      tsneY  \n",
       "145  4.250466 -4.391177 -11.465600  \n",
       "146  6.313456 -1.166145 -10.687645  \n",
       "147  4.634127 -3.518850 -11.133073  \n",
       "148  3.986008 -4.634979 -12.404978  \n",
       "149  6.959194  0.069250 -11.517223  "
      ]
     },
     "execution_count": 10,
     "metadata": {},
     "output_type": "execute_result"
    }
   ],
   "source": [
    "df_umap_coords = pd.DataFrame(umap, columns=['umapX','umapY'])\n",
    "df_iris_proj = pd.concat([df_iris, df_umap_coords, df_tsne_coords], axis='columns')\n",
    "df_iris_proj.tail()"
   ]
  },
  {
   "cell_type": "markdown",
   "id": "composed-excuse",
   "metadata": {},
   "source": [
    "## Results"
   ]
  },
  {
   "cell_type": "code",
   "execution_count": 11,
   "id": "unnecessary-technical",
   "metadata": {},
   "outputs": [
    {
     "data": {
      "text/html": [
       "\n",
       "<div id=\"altair-viz-9489f6e834d24545b447cef9a042eba8\"></div>\n",
       "<script type=\"text/javascript\">\n",
       "  (function(spec, embedOpt){\n",
       "    let outputDiv = document.currentScript.previousElementSibling;\n",
       "    if (outputDiv.id !== \"altair-viz-9489f6e834d24545b447cef9a042eba8\") {\n",
       "      outputDiv = document.getElementById(\"altair-viz-9489f6e834d24545b447cef9a042eba8\");\n",
       "    }\n",
       "    const paths = {\n",
       "      \"vega\": \"https://cdn.jsdelivr.net/npm//vega@5?noext\",\n",
       "      \"vega-lib\": \"https://cdn.jsdelivr.net/npm//vega-lib?noext\",\n",
       "      \"vega-lite\": \"https://cdn.jsdelivr.net/npm//vega-lite@4.8.1?noext\",\n",
       "      \"vega-embed\": \"https://cdn.jsdelivr.net/npm//vega-embed@6?noext\",\n",
       "    };\n",
       "\n",
       "    function loadScript(lib) {\n",
       "      return new Promise(function(resolve, reject) {\n",
       "        var s = document.createElement('script');\n",
       "        s.src = paths[lib];\n",
       "        s.async = true;\n",
       "        s.onload = () => resolve(paths[lib]);\n",
       "        s.onerror = () => reject(`Error loading script: ${paths[lib]}`);\n",
       "        document.getElementsByTagName(\"head\")[0].appendChild(s);\n",
       "      });\n",
       "    }\n",
       "\n",
       "    function showError(err) {\n",
       "      outputDiv.innerHTML = `<div class=\"error\" style=\"color:red;\">${err}</div>`;\n",
       "      throw err;\n",
       "    }\n",
       "\n",
       "    function displayChart(vegaEmbed) {\n",
       "      vegaEmbed(outputDiv, spec, embedOpt)\n",
       "        .catch(err => showError(`Javascript Error: ${err.message}<br>This usually means there's a typo in your chart specification. See the javascript console for the full traceback.`));\n",
       "    }\n",
       "\n",
       "    if(typeof define === \"function\" && define.amd) {\n",
       "      requirejs.config({paths});\n",
       "      require([\"vega-embed\"], displayChart, err => showError(`Error loading script: ${err.message}`));\n",
       "    } else if (typeof vegaEmbed === \"function\") {\n",
       "      displayChart(vegaEmbed);\n",
       "    } else {\n",
       "      loadScript(\"vega\")\n",
       "        .then(() => loadScript(\"vega-lite\"))\n",
       "        .then(() => loadScript(\"vega-embed\"))\n",
       "        .catch(showError)\n",
       "        .then(() => displayChart(vegaEmbed));\n",
       "    }\n",
       "  })({\"config\": {\"view\": {\"continuousWidth\": 400, \"continuousHeight\": 300}}, \"hconcat\": [{\"mark\": {\"type\": \"circle\", \"opacity\": 0.6}, \"encoding\": {\"color\": {\"type\": \"nominal\", \"field\": \"species\"}, \"x\": {\"type\": \"quantitative\", \"field\": \"umapX\"}, \"y\": {\"type\": \"quantitative\", \"field\": \"umapY\"}}, \"height\": 400, \"selection\": {\"selector002\": {\"type\": \"interval\", \"bind\": \"scales\", \"encodings\": [\"x\", \"y\"]}}, \"title\": \"UMAP projected iris data\", \"width\": 500}, {\"mark\": {\"type\": \"circle\", \"opacity\": 0.6}, \"encoding\": {\"color\": {\"type\": \"nominal\", \"field\": \"species\"}, \"x\": {\"type\": \"quantitative\", \"field\": \"tsneX\"}, \"y\": {\"type\": \"quantitative\", \"field\": \"tsneY\"}}, \"height\": 400, \"selection\": {\"selector003\": {\"type\": \"interval\", \"bind\": \"scales\", \"encodings\": [\"x\", \"y\"]}}, \"title\": \"TSNE projected iris data\", \"width\": 500}], \"data\": {\"name\": \"data-49cb0594e5391100293b5979729644fd\"}, \"$schema\": \"https://vega.github.io/schema/vega-lite/v4.8.1.json\", \"datasets\": {\"data-49cb0594e5391100293b5979729644fd\": [{\"sepalLength\": 5.1, \"sepalWidth\": 3.5, \"petalLength\": 1.4, \"petalWidth\": 0.2, \"species\": \"setosa\", \"umapX\": 12.668184280395508, \"umapY\": 4.633810520172119, \"tsneX\": -0.09824059422688343, \"tsneY\": 20.18938442809584}, {\"sepalLength\": 4.9, \"sepalWidth\": 3.0, \"petalLength\": 1.4, \"petalWidth\": 0.2, \"species\": \"setosa\", \"umapX\": 14.330233573913574, \"umapY\": 6.154040813446045, \"tsneX\": 2.6357861698199114, \"tsneY\": 19.393949663575302}, {\"sepalLength\": 4.7, \"sepalWidth\": 3.2, \"petalLength\": 1.3, \"petalWidth\": 0.2, \"species\": \"setosa\", \"umapX\": 13.552054405212402, \"umapY\": 6.040792465209961, \"tsneX\": 2.3465468376711254, \"tsneY\": 20.561899382401}, {\"sepalLength\": 4.6, \"sepalWidth\": 3.1, \"petalLength\": 1.5, \"petalWidth\": 0.2, \"species\": \"setosa\", \"umapX\": 13.738309860229492, \"umapY\": 6.3520827293396, \"tsneX\": 2.8454156137757805, \"tsneY\": 20.228890022636612}, {\"sepalLength\": 5.0, \"sepalWidth\": 3.6, \"petalLength\": 1.4, \"petalWidth\": 0.2, \"species\": \"setosa\", \"umapX\": 12.558988571166992, \"umapY\": 4.789445400238037, \"tsneX\": -0.14990154233290395, \"tsneY\": 20.60283241087259}, {\"sepalLength\": 5.4, \"sepalWidth\": 3.9, \"petalLength\": 1.7000000000000002, \"petalWidth\": 0.4, \"species\": \"setosa\", \"umapX\": 12.703106880187988, \"umapY\": 3.164677619934082, \"tsneX\": -2.248008412051179, \"tsneY\": 19.847814623153784}, {\"sepalLength\": 4.6, \"sepalWidth\": 3.4, \"petalLength\": 1.4, \"petalWidth\": 0.30000000000000004, \"species\": \"setosa\", \"umapX\": 13.361806869506836, \"umapY\": 5.971645832061768, \"tsneX\": 2.073752394570415, \"tsneY\": 20.974596387323825}, {\"sepalLength\": 5.0, \"sepalWidth\": 3.4, \"petalLength\": 1.5, \"petalWidth\": 0.2, \"species\": \"setosa\", \"umapX\": 13.143311500549316, \"umapY\": 4.777940273284912, \"tsneX\": 0.6059364653595154, \"tsneY\": 19.862415919326082}, {\"sepalLength\": 4.4, \"sepalWidth\": 2.9, \"petalLength\": 1.4, \"petalWidth\": 0.2, \"species\": \"setosa\", \"umapX\": 13.691107749938965, \"umapY\": 6.618791103363037, \"tsneX\": 3.587624651012077, \"tsneY\": 20.41312473018413}, {\"sepalLength\": 4.9, \"sepalWidth\": 3.1, \"petalLength\": 1.5, \"petalWidth\": 0.1, \"species\": \"setosa\", \"umapX\": 14.08733081817627, \"umapY\": 5.809706687927246, \"tsneX\": 2.079464327230991, \"tsneY\": 19.51775431099455}, {\"sepalLength\": 5.4, \"sepalWidth\": 3.7, \"petalLength\": 1.5, \"petalWidth\": 0.2, \"species\": \"setosa\", \"umapX\": 12.473273277282715, \"umapY\": 3.582000970840454, \"tsneX\": -1.6621134405777853, \"tsneY\": 19.88238168824393}, {\"sepalLength\": 4.8, \"sepalWidth\": 3.4, \"petalLength\": 1.6, \"petalWidth\": 0.2, \"species\": \"setosa\", \"umapX\": 13.688021659851074, \"umapY\": 5.156815052032471, \"tsneX\": 1.2794939038285003, \"tsneY\": 19.590230322721034}, {\"sepalLength\": 4.8, \"sepalWidth\": 3.0, \"petalLength\": 1.4, \"petalWidth\": 0.1, \"species\": \"setosa\", \"umapX\": 13.965654373168945, \"umapY\": 6.168132781982422, \"tsneX\": 2.8615969212126866, \"tsneY\": 19.698828502815704}, {\"sepalLength\": 4.3, \"sepalWidth\": 3.0, \"petalLength\": 1.1, \"petalWidth\": 0.1, \"species\": \"setosa\", \"umapX\": 13.599478721618652, \"umapY\": 6.688998222351074, \"tsneX\": 3.631248440269195, \"tsneY\": 21.01165314490714}, {\"sepalLength\": 5.8, \"sepalWidth\": 4.0, \"petalLength\": 1.2, \"petalWidth\": 0.2, \"species\": \"setosa\", \"umapX\": 12.386944770812988, \"umapY\": 3.2148091793060303, \"tsneX\": -3.015171294488444, \"tsneY\": 20.250097601128616}, {\"sepalLength\": 5.7, \"sepalWidth\": 4.4, \"petalLength\": 1.5, \"petalWidth\": 0.4, \"species\": \"setosa\", \"umapX\": 12.5004243850708, \"umapY\": 3.154888153076172, \"tsneX\": -3.0551143114432024, \"tsneY\": 20.661601322704126}, {\"sepalLength\": 5.4, \"sepalWidth\": 3.9, \"petalLength\": 1.3, \"petalWidth\": 0.4, \"species\": \"setosa\", \"umapX\": 12.55696964263916, \"umapY\": 3.3986544609069824, \"tsneX\": -2.1885524475140508, \"tsneY\": 20.413522299194746}, {\"sepalLength\": 5.1, \"sepalWidth\": 3.5, \"petalLength\": 1.4, \"petalWidth\": 0.30000000000000004, \"species\": \"setosa\", \"umapX\": 12.560215950012207, \"umapY\": 4.526142120361328, \"tsneX\": -0.15763215716961065, \"tsneY\": 20.050423932662163}, {\"sepalLength\": 5.7, \"sepalWidth\": 3.8, \"petalLength\": 1.7000000000000002, \"petalWidth\": 0.30000000000000004, \"species\": \"setosa\", \"umapX\": 12.4413423538208, \"umapY\": 3.383173704147339, \"tsneX\": -2.5992297363073797, \"tsneY\": 19.681486777180886}, {\"sepalLength\": 5.1, \"sepalWidth\": 3.8, \"petalLength\": 1.5, \"petalWidth\": 0.30000000000000004, \"species\": \"setosa\", \"umapX\": 12.928739547729492, \"umapY\": 3.529975652694702, \"tsneX\": -1.183979632327247, \"tsneY\": 20.604934514139693}, {\"sepalLength\": 5.4, \"sepalWidth\": 3.4, \"petalLength\": 1.7000000000000002, \"petalWidth\": 0.2, \"species\": \"setosa\", \"umapX\": 12.43435001373291, \"umapY\": 4.182596683502197, \"tsneX\": -1.005954358325544, \"tsneY\": 18.935242311556166}, {\"sepalLength\": 5.1, \"sepalWidth\": 3.7, \"petalLength\": 1.5, \"petalWidth\": 0.4, \"species\": \"setosa\", \"umapX\": 13.02614688873291, \"umapY\": 3.8326609134674072, \"tsneX\": -0.90754873997696, \"tsneY\": 20.292855876691686}, {\"sepalLength\": 4.6, \"sepalWidth\": 3.6, \"petalLength\": 1.0, \"petalWidth\": 0.2, \"species\": \"setosa\", \"umapX\": 13.135815620422363, \"umapY\": 5.806817531585693, \"tsneX\": 1.7153672130958026, \"tsneY\": 21.741913333727776}, {\"sepalLength\": 5.1, \"sepalWidth\": 3.3, \"petalLength\": 1.7000000000000002, \"petalWidth\": 0.5, \"species\": \"setosa\", \"umapX\": 13.173108100891113, \"umapY\": 4.430936813354492, \"tsneX\": 0.28676620149499454, \"tsneY\": 18.64926290636401}, {\"sepalLength\": 4.8, \"sepalWidth\": 3.4, \"petalLength\": 1.9, \"petalWidth\": 0.2, \"species\": \"setosa\", \"umapX\": 13.602252960205078, \"umapY\": 5.054636478424072, \"tsneX\": 1.2848638875877114, \"tsneY\": 18.597874960933034}, {\"sepalLength\": 5.0, \"sepalWidth\": 3.0, \"petalLength\": 1.6, \"petalWidth\": 0.2, \"species\": \"setosa\", \"umapX\": 14.213772773742676, \"umapY\": 5.714199542999268, \"tsneX\": 2.22108366203484, \"tsneY\": 18.937389202301656}, {\"sepalLength\": 5.0, \"sepalWidth\": 3.4, \"petalLength\": 1.6, \"petalWidth\": 0.4, \"species\": \"setosa\", \"umapX\": 13.250222206115723, \"umapY\": 4.51948356628418, \"tsneX\": 0.4253275042438798, \"tsneY\": 19.153279686986174}, {\"sepalLength\": 5.2, \"sepalWidth\": 3.5, \"petalLength\": 1.5, \"petalWidth\": 0.2, \"species\": \"setosa\", \"umapX\": 12.442427635192871, \"umapY\": 4.269964218139648, \"tsneX\": -0.5332399006603877, \"tsneY\": 19.75908008047341}, {\"sepalLength\": 5.2, \"sepalWidth\": 3.4, \"petalLength\": 1.4, \"petalWidth\": 0.2, \"species\": \"setosa\", \"umapX\": 12.60671329498291, \"umapY\": 4.393627166748047, \"tsneX\": -0.1769275602301077, \"tsneY\": 19.73760017045964}, {\"sepalLength\": 4.7, \"sepalWidth\": 3.2, \"petalLength\": 1.6, \"petalWidth\": 0.2, \"species\": \"setosa\", \"umapX\": 13.825909614562988, \"umapY\": 5.754616737365723, \"tsneX\": 2.1772504572172102, \"tsneY\": 19.965243803221934}, {\"sepalLength\": 4.8, \"sepalWidth\": 3.1, \"petalLength\": 1.6, \"petalWidth\": 0.2, \"species\": \"setosa\", \"umapX\": 13.96144962310791, \"umapY\": 5.892248153686523, \"tsneX\": 2.2607120308282647, \"tsneY\": 19.455319775110954}, {\"sepalLength\": 5.4, \"sepalWidth\": 3.4, \"petalLength\": 1.5, \"petalWidth\": 0.4, \"species\": \"setosa\", \"umapX\": 12.382901191711426, \"umapY\": 4.1045684814453125, \"tsneX\": -0.8959213452400743, \"tsneY\": 19.101237056665248}, {\"sepalLength\": 5.2, \"sepalWidth\": 4.1, \"petalLength\": 1.5, \"petalWidth\": 0.1, \"species\": \"setosa\", \"umapX\": 12.734969139099121, \"umapY\": 3.262274980545044, \"tsneX\": -2.085835660504034, \"tsneY\": 20.93840381045354}, {\"sepalLength\": 5.5, \"sepalWidth\": 4.2, \"petalLength\": 1.4, \"petalWidth\": 0.2, \"species\": \"setosa\", \"umapX\": 12.439905166625977, \"umapY\": 3.1709797382354736, \"tsneX\": -2.690297407061256, \"tsneY\": 20.682185455782708}, {\"sepalLength\": 4.9, \"sepalWidth\": 3.1, \"petalLength\": 1.5, \"petalWidth\": 0.2, \"species\": \"setosa\", \"umapX\": 14.194973945617676, \"umapY\": 5.779932022094727, \"tsneX\": 2.0104230370009284, \"tsneY\": 19.54906114211015}, {\"sepalLength\": 5.0, \"sepalWidth\": 3.2, \"petalLength\": 1.2, \"petalWidth\": 0.2, \"species\": \"setosa\", \"umapX\": 13.454339981079102, \"umapY\": 5.437782287597656, \"tsneX\": 1.414540859343388, \"tsneY\": 20.46741892535752}, {\"sepalLength\": 5.5, \"sepalWidth\": 3.5, \"petalLength\": 1.3, \"petalWidth\": 0.2, \"species\": \"setosa\", \"umapX\": 12.586820602416992, \"umapY\": 3.864579677581787, \"tsneX\": -1.420325023282614, \"tsneY\": 19.399138166148383}, {\"sepalLength\": 4.9, \"sepalWidth\": 3.6, \"petalLength\": 1.4, \"petalWidth\": 0.1, \"species\": \"setosa\", \"umapX\": 12.720349311828613, \"umapY\": 5.045738697052002, \"tsneX\": 0.26736342675047853, \"tsneY\": 20.879002937783074}, {\"sepalLength\": 4.4, \"sepalWidth\": 3.0, \"petalLength\": 1.3, \"petalWidth\": 0.2, \"species\": \"setosa\", \"umapX\": 13.599076271057129, \"umapY\": 6.702328681945801, \"tsneX\": 3.418417873683873, \"tsneY\": 20.690034003326012}, {\"sepalLength\": 5.1, \"sepalWidth\": 3.4, \"petalLength\": 1.5, \"petalWidth\": 0.2, \"species\": \"setosa\", \"umapX\": 12.95362663269043, \"umapY\": 4.534409046173096, \"tsneX\": 0.2441903226296035, \"tsneY\": 19.748498111101583}, {\"sepalLength\": 5.0, \"sepalWidth\": 3.5, \"petalLength\": 1.3, \"petalWidth\": 0.30000000000000004, \"species\": \"setosa\", \"umapX\": 12.794880867004395, \"umapY\": 4.831168174743652, \"tsneX\": 0.29391710648744807, \"tsneY\": 20.513849408749888}, {\"sepalLength\": 4.5, \"sepalWidth\": 2.3, \"petalLength\": 1.3, \"petalWidth\": 0.30000000000000004, \"species\": \"setosa\", \"umapX\": 13.8679838180542, \"umapY\": 6.629032135009766, \"tsneX\": 4.157483678681628, \"tsneY\": 19.866403692901432}, {\"sepalLength\": 4.4, \"sepalWidth\": 3.2, \"petalLength\": 1.3, \"petalWidth\": 0.2, \"species\": \"setosa\", \"umapX\": 13.5022554397583, \"umapY\": 6.466905117034912, \"tsneX\": 2.9964173153062728, \"tsneY\": 21.078314699411152}, {\"sepalLength\": 5.0, \"sepalWidth\": 3.5, \"petalLength\": 1.6, \"petalWidth\": 0.6000000000000001, \"species\": \"setosa\", \"umapX\": 13.188756942749023, \"umapY\": 4.408571720123291, \"tsneX\": -0.020447126042125962, \"tsneY\": 18.71637830367935}, {\"sepalLength\": 5.1, \"sepalWidth\": 3.8, \"petalLength\": 1.9, \"petalWidth\": 0.4, \"species\": \"setosa\", \"umapX\": 13.10932445526123, \"umapY\": 3.327141046524048, \"tsneX\": -1.9489997327574498, \"tsneY\": 18.989902250912717}, {\"sepalLength\": 4.8, \"sepalWidth\": 3.0, \"petalLength\": 1.4, \"petalWidth\": 0.30000000000000004, \"species\": \"setosa\", \"umapX\": 13.97685718536377, \"umapY\": 6.144743919372559, \"tsneX\": 2.8503545918675983, \"tsneY\": 19.71632768201955}, {\"sepalLength\": 5.1, \"sepalWidth\": 3.8, \"petalLength\": 1.6, \"petalWidth\": 0.2, \"species\": \"setosa\", \"umapX\": 12.896498680114746, \"umapY\": 3.512960433959961, \"tsneX\": -1.253490071857467, \"tsneY\": 20.623355601942027}, {\"sepalLength\": 4.6, \"sepalWidth\": 3.2, \"petalLength\": 1.4, \"petalWidth\": 0.2, \"species\": \"setosa\", \"umapX\": 13.576475143432617, \"umapY\": 6.213565826416016, \"tsneX\": 2.5920026717067746, \"tsneY\": 20.57279290443316}, {\"sepalLength\": 5.3, \"sepalWidth\": 3.7, \"petalLength\": 1.5, \"petalWidth\": 0.2, \"species\": \"setosa\", \"umapX\": 12.470331192016602, \"umapY\": 3.61757493019104, \"tsneX\": -1.3830199177516485, \"tsneY\": 20.031291618040424}, {\"sepalLength\": 5.0, \"sepalWidth\": 3.3, \"petalLength\": 1.4, \"petalWidth\": 0.2, \"species\": \"setosa\", \"umapX\": 13.220359802246094, \"umapY\": 5.081644058227539, \"tsneX\": 0.9909693631616524, \"tsneY\": 20.03013527482379}, {\"sepalLength\": 7.0, \"sepalWidth\": 3.2, \"petalLength\": 4.7, \"petalWidth\": 1.4, \"species\": \"versicolor\", \"umapX\": -5.589745998382568, \"umapY\": 8.368549346923828, \"tsneX\": -0.26271963925019914, \"tsneY\": -7.759804054791504}, {\"sepalLength\": 6.4, \"sepalWidth\": 3.2, \"petalLength\": 4.5, \"petalWidth\": 1.5, \"species\": \"versicolor\", \"umapX\": -5.0914387702941895, \"umapY\": 8.135254859924316, \"tsneX\": 1.1256124369751181, \"tsneY\": -8.882929843269917}, {\"sepalLength\": 6.9, \"sepalWidth\": 3.1, \"petalLength\": 4.9, \"petalWidth\": 1.5, \"species\": \"versicolor\", \"umapX\": -5.683810234069824, \"umapY\": 8.369738578796387, \"tsneX\": -0.6590684783802493, \"tsneY\": -8.101070060322929}, {\"sepalLength\": 5.5, \"sepalWidth\": 2.3, \"petalLength\": 4.0, \"petalWidth\": 1.3, \"species\": \"versicolor\", \"umapX\": -2.3766939640045166, \"umapY\": 8.91423511505127, \"tsneX\": 6.106245590004305, \"tsneY\": -9.161820524761133}, {\"sepalLength\": 6.5, \"sepalWidth\": 2.8, \"petalLength\": 4.6, \"petalWidth\": 1.5, \"species\": \"versicolor\", \"umapX\": -5.218256950378418, \"umapY\": 8.27364444732666, \"tsneX\": 0.642973610735939, \"tsneY\": -8.694015651275938}, {\"sepalLength\": 5.7, \"sepalWidth\": 2.8, \"petalLength\": 4.5, \"petalWidth\": 1.3, \"species\": \"versicolor\", \"umapX\": -3.5491373538970947, \"umapY\": 8.668630599975586, \"tsneX\": 3.960389543616436, \"tsneY\": -9.998196365426454}, {\"sepalLength\": 6.3, \"sepalWidth\": 3.3, \"petalLength\": 4.7, \"petalWidth\": 1.6, \"species\": \"versicolor\", \"umapX\": -5.2003374099731445, \"umapY\": 7.822058200836182, \"tsneX\": 0.9394307824150138, \"tsneY\": -9.62830233006788}, {\"sepalLength\": 4.9, \"sepalWidth\": 2.4, \"petalLength\": 3.3, \"petalWidth\": 1.0, \"species\": \"versicolor\", \"umapX\": -1.9259504079818726, \"umapY\": 8.649964332580566, \"tsneX\": 7.623472548800571, \"tsneY\": -8.799820297572564}, {\"sepalLength\": 6.6, \"sepalWidth\": 2.9, \"petalLength\": 4.6, \"petalWidth\": 1.3, \"species\": \"versicolor\", \"umapX\": -5.420892238616943, \"umapY\": 8.590325355529785, \"tsneX\": 0.6467047927733852, \"tsneY\": -8.26507895052431}, {\"sepalLength\": 5.2, \"sepalWidth\": 2.7, \"petalLength\": 3.9, \"petalWidth\": 1.4, \"species\": \"versicolor\", \"umapX\": -2.4923574924468994, \"umapY\": 8.792004585266113, \"tsneX\": 6.22098715531783, \"tsneY\": -9.909679550264611}, {\"sepalLength\": 5.0, \"sepalWidth\": 2.0, \"petalLength\": 3.5, \"petalWidth\": 1.0, \"species\": \"versicolor\", \"umapX\": -1.9558441638946533, \"umapY\": 8.561762809753418, \"tsneX\": 7.528969780978575, \"tsneY\": -9.021585693949413}, {\"sepalLength\": 5.9, \"sepalWidth\": 3.0, \"petalLength\": 4.2, \"petalWidth\": 1.5, \"species\": \"versicolor\", \"umapX\": -3.731447219848633, \"umapY\": 8.249822616577148, \"tsneX\": 3.643874982593137, \"tsneY\": -9.409923046546322}, {\"sepalLength\": 6.0, \"sepalWidth\": 2.2, \"petalLength\": 4.0, \"petalWidth\": 1.0, \"species\": \"versicolor\", \"umapX\": -2.6277036666870117, \"umapY\": 8.585991859436035, \"tsneX\": 5.510729536530761, \"tsneY\": -7.869315607155334}, {\"sepalLength\": 6.1, \"sepalWidth\": 2.9, \"petalLength\": 4.7, \"petalWidth\": 1.4, \"species\": \"versicolor\", \"umapX\": -4.755409240722656, \"umapY\": 7.659839630126953, \"tsneX\": 1.709922284668944, \"tsneY\": -9.674503949917183}, {\"sepalLength\": 5.6, \"sepalWidth\": 2.9, \"petalLength\": 3.6, \"petalWidth\": 1.3, \"species\": \"versicolor\", \"umapX\": -2.3831732273101807, \"umapY\": 8.197417259216309, \"tsneX\": 6.376998685880044, \"tsneY\": -9.457260723282069}, {\"sepalLength\": 6.7, \"sepalWidth\": 3.1, \"petalLength\": 4.4, \"petalWidth\": 1.4, \"species\": \"versicolor\", \"umapX\": -5.183971881866455, \"umapY\": 8.441523551940918, \"tsneX\": 0.6938121587876391, \"tsneY\": -7.953135617838296}, {\"sepalLength\": 5.6, \"sepalWidth\": 3.0, \"petalLength\": 4.5, \"petalWidth\": 1.5, \"species\": \"versicolor\", \"umapX\": -3.7170333862304688, \"umapY\": 8.62568473815918, \"tsneX\": 3.782564665163308, \"tsneY\": -10.411895834114778}, {\"sepalLength\": 5.8, \"sepalWidth\": 2.7, \"petalLength\": 4.1, \"petalWidth\": 1.0, \"species\": \"versicolor\", \"umapX\": -2.802245616912842, \"umapY\": 8.482293128967285, \"tsneX\": 5.053167487515287, \"tsneY\": -8.681518879911508}, {\"sepalLength\": 6.2, \"sepalWidth\": 2.2, \"petalLength\": 4.5, \"petalWidth\": 1.5, \"species\": \"versicolor\", \"umapX\": -4.833863735198975, \"umapY\": 6.990195274353027, \"tsneX\": 2.71459885618428, \"tsneY\": -7.520071508684077}, {\"sepalLength\": 5.6, \"sepalWidth\": 2.5, \"petalLength\": 3.9, \"petalWidth\": 1.1, \"species\": \"versicolor\", \"umapX\": -2.331061601638794, \"umapY\": 8.791046142578125, \"tsneX\": 5.93436341577291, \"tsneY\": -8.749118563124302}, {\"sepalLength\": 5.9, \"sepalWidth\": 3.2, \"petalLength\": 4.8, \"petalWidth\": 1.8, \"species\": \"versicolor\", \"umapX\": -5.531957626342773, \"umapY\": 7.267251014709473, \"tsneX\": 1.0296936212346781, \"tsneY\": -11.111792877721687}, {\"sepalLength\": 6.1, \"sepalWidth\": 2.8, \"petalLength\": 4.0, \"petalWidth\": 1.3, \"species\": \"versicolor\", \"umapX\": -3.382526397705078, \"umapY\": 8.098278999328613, \"tsneX\": 4.158330827272983, \"tsneY\": -8.532884077132273}, {\"sepalLength\": 6.3, \"sepalWidth\": 2.5, \"petalLength\": 4.9, \"petalWidth\": 1.5, \"species\": \"versicolor\", \"umapX\": -5.290390491485596, \"umapY\": 6.504587173461914, \"tsneX\": -0.5002075636789672, \"tsneY\": -9.971692155597756}, {\"sepalLength\": 6.1, \"sepalWidth\": 2.8, \"petalLength\": 4.7, \"petalWidth\": 1.2, \"species\": \"versicolor\", \"umapX\": -4.5849432945251465, \"umapY\": 7.729316234588623, \"tsneX\": 2.043223031471903, \"tsneY\": -9.343659077780073}, {\"sepalLength\": 6.4, \"sepalWidth\": 2.9, \"petalLength\": 4.3, \"petalWidth\": 1.3, \"species\": \"versicolor\", \"umapX\": -4.745507717132568, \"umapY\": 8.293464660644531, \"tsneX\": 1.8242760371259203, \"tsneY\": -8.381874670078602}, {\"sepalLength\": 6.6, \"sepalWidth\": 3.0, \"petalLength\": 4.4, \"petalWidth\": 1.4, \"species\": \"versicolor\", \"umapX\": -5.128459930419922, \"umapY\": 8.464648246765137, \"tsneX\": 0.989347698554462, \"tsneY\": -8.160071183557541}, {\"sepalLength\": 6.8, \"sepalWidth\": 2.8, \"petalLength\": 4.8, \"petalWidth\": 1.4, \"species\": \"versicolor\", \"umapX\": -5.6588640213012695, \"umapY\": 8.451810836791992, \"tsneX\": -0.22678512047545413, \"tsneY\": -8.269964672566433}, {\"sepalLength\": 6.7, \"sepalWidth\": 3.0, \"petalLength\": 5.0, \"petalWidth\": 1.7000000000000002, \"species\": \"versicolor\", \"umapX\": -5.824203968048096, \"umapY\": 8.03434944152832, \"tsneX\": -1.244310850405135, \"tsneY\": -8.781877643385215}, {\"sepalLength\": 6.0, \"sepalWidth\": 2.9, \"petalLength\": 4.5, \"petalWidth\": 1.5, \"species\": \"versicolor\", \"umapX\": -4.410192966461182, \"umapY\": 7.94735860824585, \"tsneX\": 2.4918854416562914, \"tsneY\": -9.704335903959956}, {\"sepalLength\": 5.7, \"sepalWidth\": 2.6, \"petalLength\": 3.5, \"petalWidth\": 1.0, \"species\": \"versicolor\", \"umapX\": -2.202819347381592, \"umapY\": 8.22236156463623, \"tsneX\": 6.507133107895041, \"tsneY\": -8.338616527743767}, {\"sepalLength\": 5.5, \"sepalWidth\": 2.4, \"petalLength\": 3.8, \"petalWidth\": 1.1, \"species\": \"versicolor\", \"umapX\": -2.1454241275787354, \"umapY\": 8.661036491394043, \"tsneX\": 6.359902451219299, \"tsneY\": -8.784369386877161}, {\"sepalLength\": 5.5, \"sepalWidth\": 2.4, \"petalLength\": 3.7, \"petalWidth\": 1.0, \"species\": \"versicolor\", \"umapX\": -2.2308268547058105, \"umapY\": 8.40768814086914, \"tsneX\": 6.5885239098702515, \"tsneY\": -8.675844663048867}, {\"sepalLength\": 5.8, \"sepalWidth\": 2.7, \"petalLength\": 3.9, \"petalWidth\": 1.2, \"species\": \"versicolor\", \"umapX\": -2.6961162090301514, \"umapY\": 8.283941268920898, \"tsneX\": 5.343172955052301, \"tsneY\": -8.750426876600194}, {\"sepalLength\": 6.0, \"sepalWidth\": 2.7, \"petalLength\": 5.1, \"petalWidth\": 1.6, \"species\": \"versicolor\", \"umapX\": -5.816499710083008, \"umapY\": 6.515325546264648, \"tsneX\": -0.5632302034638469, \"tsneY\": -11.053165263171229}, {\"sepalLength\": 5.4, \"sepalWidth\": 3.0, \"petalLength\": 4.5, \"petalWidth\": 1.5, \"species\": \"versicolor\", \"umapX\": -3.4936161041259766, \"umapY\": 8.866279602050781, \"tsneX\": 4.232950352398884, \"tsneY\": -10.653264008672878}, {\"sepalLength\": 6.0, \"sepalWidth\": 3.4, \"petalLength\": 4.5, \"petalWidth\": 1.6, \"species\": \"versicolor\", \"umapX\": -5.118295192718506, \"umapY\": 7.7102532386779785, \"tsneX\": 1.9595898980822735, \"tsneY\": -10.478143336542107}, {\"sepalLength\": 6.7, \"sepalWidth\": 3.1, \"petalLength\": 4.7, \"petalWidth\": 1.5, \"species\": \"versicolor\", \"umapX\": -5.58762788772583, \"umapY\": 8.40072250366211, \"tsneX\": 0.028187002157372184, \"tsneY\": -8.261621766862122}, {\"sepalLength\": 6.3, \"sepalWidth\": 2.3, \"petalLength\": 4.4, \"petalWidth\": 1.3, \"species\": \"versicolor\", \"umapX\": -4.600836753845215, \"umapY\": 7.249025821685791, \"tsneX\": 2.7914121951251367, \"tsneY\": -7.592602955677037}, {\"sepalLength\": 5.6, \"sepalWidth\": 3.0, \"petalLength\": 4.1, \"petalWidth\": 1.3, \"species\": \"versicolor\", \"umapX\": -3.23366117477417, \"umapY\": 8.538703918457031, \"tsneX\": 4.773870938132341, \"tsneY\": -9.707587371112208}, {\"sepalLength\": 5.5, \"sepalWidth\": 2.5, \"petalLength\": 4.0, \"petalWidth\": 1.3, \"species\": \"versicolor\", \"umapX\": -2.4038922786712646, \"umapY\": 8.842702865600586, \"tsneX\": 5.8392379411294515, \"tsneY\": -9.374836088951044}, {\"sepalLength\": 5.5, \"sepalWidth\": 2.6, \"petalLength\": 4.4, \"petalWidth\": 1.2, \"species\": \"versicolor\", \"umapX\": -3.1195485591888428, \"umapY\": 8.979243278503418, \"tsneX\": 5.150885227124998, \"tsneY\": -10.093022059176281}, {\"sepalLength\": 6.1, \"sepalWidth\": 3.0, \"petalLength\": 4.6, \"petalWidth\": 1.4, \"species\": \"versicolor\", \"umapX\": -4.684023380279541, \"umapY\": 7.80382776260376, \"tsneX\": 1.94014176175715, \"tsneY\": -9.586149127976055}, {\"sepalLength\": 5.8, \"sepalWidth\": 2.6, \"petalLength\": 4.0, \"petalWidth\": 1.2, \"species\": \"versicolor\", \"umapX\": -2.7768802642822266, \"umapY\": 8.56251335144043, \"tsneX\": 5.296222684385731, \"tsneY\": -8.73892825966567}, {\"sepalLength\": 5.0, \"sepalWidth\": 2.3, \"petalLength\": 3.3, \"petalWidth\": 1.0, \"species\": \"versicolor\", \"umapX\": -1.8190805912017822, \"umapY\": 8.48432445526123, \"tsneX\": 7.565905733861009, \"tsneY\": -8.781952453650737}, {\"sepalLength\": 5.6, \"sepalWidth\": 2.7, \"petalLength\": 4.2, \"petalWidth\": 1.3, \"species\": \"versicolor\", \"umapX\": -3.1871745586395264, \"umapY\": 8.79088020324707, \"tsneX\": 5.120014644384144, \"tsneY\": -9.640997533781787}, {\"sepalLength\": 5.7, \"sepalWidth\": 3.0, \"petalLength\": 4.2, \"petalWidth\": 1.2, \"species\": \"versicolor\", \"umapX\": -3.250556707382202, \"umapY\": 8.513636589050293, \"tsneX\": 4.428648467426285, \"tsneY\": -9.501298105925851}, {\"sepalLength\": 5.7, \"sepalWidth\": 2.9, \"petalLength\": 4.2, \"petalWidth\": 1.3, \"species\": \"versicolor\", \"umapX\": -3.226088523864746, \"umapY\": 8.474692344665527, \"tsneX\": 4.483908362990968, \"tsneY\": -9.534068012537306}, {\"sepalLength\": 6.2, \"sepalWidth\": 2.9, \"petalLength\": 4.3, \"petalWidth\": 1.3, \"species\": \"versicolor\", \"umapX\": -4.405517578125, \"umapY\": 8.13875961303711, \"tsneX\": 2.639633603556464, \"tsneY\": -8.824315364781691}, {\"sepalLength\": 5.1, \"sepalWidth\": 2.5, \"petalLength\": 3.0, \"petalWidth\": 1.1, \"species\": \"versicolor\", \"umapX\": -1.837528944015503, \"umapY\": 8.57174015045166, \"tsneX\": 7.698375082428438, \"tsneY\": -8.630947422992786}, {\"sepalLength\": 5.7, \"sepalWidth\": 2.8, \"petalLength\": 4.1, \"petalWidth\": 1.3, \"species\": \"versicolor\", \"umapX\": -3.085925817489624, \"umapY\": 8.432380676269531, \"tsneX\": 4.890173836770397, \"tsneY\": -9.294547721036723}, {\"sepalLength\": 6.3, \"sepalWidth\": 3.3, \"petalLength\": 6.0, \"petalWidth\": 2.5, \"species\": \"virginica\", \"umapX\": -6.222508430480957, \"umapY\": 3.629925012588501, \"tsneX\": -5.844273155923291, \"tsneY\": -12.212036966997983}, {\"sepalLength\": 5.8, \"sepalWidth\": 2.7, \"petalLength\": 5.1, \"petalWidth\": 1.9, \"species\": \"virginica\", \"umapX\": -6.082063674926758, \"umapY\": 6.669830322265625, \"tsneX\": -0.36321648653184524, \"tsneY\": -11.931245971134592}, {\"sepalLength\": 7.1, \"sepalWidth\": 3.0, \"petalLength\": 5.9, \"petalWidth\": 2.1, \"species\": \"virginica\", \"umapX\": -7.47050142288208, \"umapY\": 3.301208734512329, \"tsneX\": -6.4487765424415215, \"tsneY\": -10.373557755123409}, {\"sepalLength\": 6.3, \"sepalWidth\": 2.9, \"petalLength\": 5.6, \"petalWidth\": 1.8, \"species\": \"virginica\", \"umapX\": -6.441731929779053, \"umapY\": 4.9224042892456055, \"tsneX\": -3.6157680676150137, \"tsneY\": -10.211724480302545}, {\"sepalLength\": 6.5, \"sepalWidth\": 3.0, \"petalLength\": 5.8, \"petalWidth\": 2.2, \"species\": \"virginica\", \"umapX\": -6.503148555755615, \"umapY\": 3.8092713356018066, \"tsneX\": -5.19306430952699, \"tsneY\": -10.633217501519436}, {\"sepalLength\": 7.6, \"sepalWidth\": 3.0, \"petalLength\": 6.6, \"petalWidth\": 2.1, \"species\": \"virginica\", \"umapX\": -7.938915252685547, \"umapY\": 2.9736242294311523, \"tsneX\": -7.864485280230651, \"tsneY\": -10.009250565302539}, {\"sepalLength\": 4.9, \"sepalWidth\": 2.5, \"petalLength\": 4.5, \"petalWidth\": 1.7000000000000002, \"species\": \"virginica\", \"umapX\": -3.1699090003967285, \"umapY\": 8.948660850524902, \"tsneX\": 5.422103065409708, \"tsneY\": -11.165509542568703}, {\"sepalLength\": 7.3, \"sepalWidth\": 2.9, \"petalLength\": 6.3, \"petalWidth\": 1.8, \"species\": \"virginica\", \"umapX\": -7.7851433753967285, \"umapY\": 3.258854866027832, \"tsneX\": -7.22545753678929, \"tsneY\": -9.749462940937065}, {\"sepalLength\": 6.7, \"sepalWidth\": 2.5, \"petalLength\": 5.8, \"petalWidth\": 1.8, \"species\": \"virginica\", \"umapX\": -6.850666522979736, \"umapY\": 4.5535359382629395, \"tsneX\": -4.884628983461883, \"tsneY\": -9.545826579567576}, {\"sepalLength\": 7.2, \"sepalWidth\": 3.6, \"petalLength\": 6.1, \"petalWidth\": 2.5, \"species\": \"virginica\", \"umapX\": -7.203053951263428, \"umapY\": 3.087200164794922, \"tsneX\": -7.170999464555933, \"tsneY\": -11.161413865847505}, {\"sepalLength\": 6.5, \"sepalWidth\": 3.2, \"petalLength\": 5.1, \"petalWidth\": 2.0, \"species\": \"virginica\", \"umapX\": -6.022766590118408, \"umapY\": 4.5077972412109375, \"tsneX\": -3.497912218034923, \"tsneY\": -11.463011147104996}, {\"sepalLength\": 6.4, \"sepalWidth\": 2.7, \"petalLength\": 5.3, \"petalWidth\": 1.9, \"species\": \"virginica\", \"umapX\": -6.279699802398682, \"umapY\": 5.056499004364014, \"tsneX\": -2.8680426860834527, \"tsneY\": -10.550527801563744}, {\"sepalLength\": 6.8, \"sepalWidth\": 3.0, \"petalLength\": 5.5, \"petalWidth\": 2.1, \"species\": \"virginica\", \"umapX\": -6.988475322723389, \"umapY\": 3.9605419635772705, \"tsneX\": -5.019827909215458, \"tsneY\": -10.80721331406796}, {\"sepalLength\": 5.7, \"sepalWidth\": 2.5, \"petalLength\": 5.0, \"petalWidth\": 2.0, \"species\": \"virginica\", \"umapX\": -6.170854091644287, \"umapY\": 6.766857147216797, \"tsneX\": -0.3006719588978397, \"tsneY\": -12.291924354313698}, {\"sepalLength\": 5.8, \"sepalWidth\": 2.8, \"petalLength\": 5.1, \"petalWidth\": 2.4, \"species\": \"virginica\", \"umapX\": -6.195866584777832, \"umapY\": 6.737084865570068, \"tsneX\": -0.7289875012159118, \"tsneY\": -12.643265582188514}, {\"sepalLength\": 6.4, \"sepalWidth\": 3.2, \"petalLength\": 5.3, \"petalWidth\": 2.3, \"species\": \"virginica\", \"umapX\": -6.225526332855225, \"umapY\": 4.254601001739502, \"tsneX\": -4.346573181974824, \"tsneY\": -11.88846683940082}, {\"sepalLength\": 6.5, \"sepalWidth\": 3.0, \"petalLength\": 5.5, \"petalWidth\": 1.8, \"species\": \"virginica\", \"umapX\": -6.45997428894043, \"umapY\": 4.744614601135254, \"tsneX\": -3.831795036390459, \"tsneY\": -10.40374681237607}, {\"sepalLength\": 7.7, \"sepalWidth\": 3.8, \"petalLength\": 6.7, \"petalWidth\": 2.2, \"species\": \"virginica\", \"umapX\": -7.81685733795166, \"umapY\": 2.7908408641815186, \"tsneX\": -8.12787365164405, \"tsneY\": -10.733129872735683}, {\"sepalLength\": 7.7, \"sepalWidth\": 2.6, \"petalLength\": 6.9, \"petalWidth\": 2.3, \"species\": \"virginica\", \"umapX\": -8.004996299743652, \"umapY\": 2.9468929767608643, \"tsneX\": -8.133957899591039, \"tsneY\": -9.71082165563311}, {\"sepalLength\": 6.0, \"sepalWidth\": 2.2, \"petalLength\": 5.0, \"petalWidth\": 1.5, \"species\": \"virginica\", \"umapX\": -5.283563137054443, \"umapY\": 6.591899871826172, \"tsneX\": -1.0380842055417587, \"tsneY\": -11.01233103639389}, {\"sepalLength\": 6.9, \"sepalWidth\": 3.2, \"petalLength\": 5.7, \"petalWidth\": 2.3, \"species\": \"virginica\", \"umapX\": -6.946023941040039, \"umapY\": 3.3616669178009033, \"tsneX\": -5.948901471700694, \"tsneY\": -11.041820806294531}, {\"sepalLength\": 5.6, \"sepalWidth\": 2.8, \"petalLength\": 4.9, \"petalWidth\": 2.0, \"species\": \"virginica\", \"umapX\": -6.122103214263916, \"umapY\": 6.844217300415039, \"tsneX\": 0.15270992548341628, \"tsneY\": -12.284653627561697}, {\"sepalLength\": 7.7, \"sepalWidth\": 2.8, \"petalLength\": 6.7, \"petalWidth\": 2.0, \"species\": \"virginica\", \"umapX\": -7.897580146789551, \"umapY\": 2.885465383529663, \"tsneX\": -7.964125813057746, \"tsneY\": -9.803557693073056}, {\"sepalLength\": 6.3, \"sepalWidth\": 2.7, \"petalLength\": 4.9, \"petalWidth\": 1.8, \"species\": \"virginica\", \"umapX\": -5.366748332977295, \"umapY\": 6.5791215896606445, \"tsneX\": -0.5805317505914486, \"tsneY\": -10.397906867201623}, {\"sepalLength\": 6.7, \"sepalWidth\": 3.3, \"petalLength\": 5.7, \"petalWidth\": 2.1, \"species\": \"virginica\", \"umapX\": -6.832779884338379, \"umapY\": 3.654815912246704, \"tsneX\": -5.614132913865018, \"tsneY\": -11.060214805632416}, {\"sepalLength\": 7.2, \"sepalWidth\": 3.2, \"petalLength\": 6.0, \"petalWidth\": 1.8, \"species\": \"virginica\", \"umapX\": -7.682487964630127, \"umapY\": 3.3900272846221924, \"tsneX\": -6.758306038637378, \"tsneY\": -9.999429533858143}, {\"sepalLength\": 6.2, \"sepalWidth\": 2.8, \"petalLength\": 4.8, \"petalWidth\": 1.8, \"species\": \"virginica\", \"umapX\": -5.436044692993164, \"umapY\": 6.972978115081787, \"tsneX\": -0.0006244288733481498, \"tsneY\": -10.500926340119868}, {\"sepalLength\": 6.1, \"sepalWidth\": 3.0, \"petalLength\": 4.9, \"petalWidth\": 1.8, \"species\": \"virginica\", \"umapX\": -5.473997592926025, \"umapY\": 7.130237579345703, \"tsneX\": 0.29845230871601947, \"tsneY\": -10.891740819620304}, {\"sepalLength\": 6.4, \"sepalWidth\": 2.8, \"petalLength\": 5.6, \"petalWidth\": 2.1, \"species\": \"virginica\", \"umapX\": -6.721608638763428, \"umapY\": 4.527471542358398, \"tsneX\": -4.3167436026464525, \"tsneY\": -10.373165423461753}, {\"sepalLength\": 7.2, \"sepalWidth\": 3.0, \"petalLength\": 5.8, \"petalWidth\": 1.6, \"species\": \"virginica\", \"umapX\": -7.5957841873168945, \"umapY\": 3.354583978652954, \"tsneX\": -6.502430909157173, \"tsneY\": -9.645034602459896}, {\"sepalLength\": 7.4, \"sepalWidth\": 2.8, \"petalLength\": 6.1, \"petalWidth\": 1.9, \"species\": \"virginica\", \"umapX\": -7.871549129486084, \"umapY\": 3.282900094985962, \"tsneX\": -7.107972418878112, \"tsneY\": -9.757991062305889}, {\"sepalLength\": 7.9, \"sepalWidth\": 3.8, \"petalLength\": 6.4, \"petalWidth\": 2.0, \"species\": \"virginica\", \"umapX\": -7.710970401763916, \"umapY\": 2.871523141860962, \"tsneX\": -8.112411127450002, \"tsneY\": -10.727499669586308}, {\"sepalLength\": 6.4, \"sepalWidth\": 2.8, \"petalLength\": 5.6, \"petalWidth\": 2.2, \"species\": \"virginica\", \"umapX\": -6.629493236541748, \"umapY\": 4.309165000915527, \"tsneX\": -4.47107554035994, \"tsneY\": -10.481149912350595}, {\"sepalLength\": 6.3, \"sepalWidth\": 2.8, \"petalLength\": 5.1, \"petalWidth\": 1.5, \"species\": \"virginica\", \"umapX\": -5.519601345062256, \"umapY\": 6.4125542640686035, \"tsneX\": -0.8906111571545944, \"tsneY\": -10.040857595331822}, {\"sepalLength\": 6.1, \"sepalWidth\": 2.6, \"petalLength\": 5.6, \"petalWidth\": 1.4, \"species\": \"virginica\", \"umapX\": -6.014770030975342, \"umapY\": 5.711329460144043, \"tsneX\": -2.1631395896294174, \"tsneY\": -10.289035892056498}, {\"sepalLength\": 7.7, \"sepalWidth\": 3.0, \"petalLength\": 6.1, \"petalWidth\": 2.3, \"species\": \"virginica\", \"umapX\": -7.8582258224487305, \"umapY\": 3.156167507171631, \"tsneX\": -7.564313131284686, \"tsneY\": -10.253475337941381}, {\"sepalLength\": 6.3, \"sepalWidth\": 3.4, \"petalLength\": 5.6, \"petalWidth\": 2.4, \"species\": \"virginica\", \"umapX\": -6.193546295166016, \"umapY\": 3.7294554710388184, \"tsneX\": -5.181321693497003, \"tsneY\": -12.260724744160349}, {\"sepalLength\": 6.4, \"sepalWidth\": 3.1, \"petalLength\": 5.5, \"petalWidth\": 1.8, \"species\": \"virginica\", \"umapX\": -6.391109943389893, \"umapY\": 4.714641571044922, \"tsneX\": -3.738955847454033, \"tsneY\": -10.49204028894537}, {\"sepalLength\": 6.0, \"sepalWidth\": 3.0, \"petalLength\": 4.8, \"petalWidth\": 1.8, \"species\": \"virginica\", \"umapX\": -5.540782928466797, \"umapY\": 7.158835411071777, \"tsneX\": 0.634599005739212, \"tsneY\": -10.976760132144301}, {\"sepalLength\": 6.9, \"sepalWidth\": 3.1, \"petalLength\": 5.4, \"petalWidth\": 2.1, \"species\": \"virginica\", \"umapX\": -6.9254560470581055, \"umapY\": 3.936527729034424, \"tsneX\": -5.023022255715299, \"tsneY\": -11.075806032873276}, {\"sepalLength\": 6.7, \"sepalWidth\": 3.1, \"petalLength\": 5.6, \"petalWidth\": 2.4, \"species\": \"virginica\", \"umapX\": -6.7537713050842285, \"umapY\": 3.5977468490600586, \"tsneX\": -5.395912102294794, \"tsneY\": -11.400026622701109}, {\"sepalLength\": 6.9, \"sepalWidth\": 3.1, \"petalLength\": 5.1, \"petalWidth\": 2.3, \"species\": \"virginica\", \"umapX\": -6.579415321350098, \"umapY\": 4.085262298583984, \"tsneX\": -4.494922702324566, \"tsneY\": -11.590515897830025}, {\"sepalLength\": 5.8, \"sepalWidth\": 2.7, \"petalLength\": 5.1, \"petalWidth\": 1.9, \"species\": \"virginica\", \"umapX\": -6.069454669952393, \"umapY\": 6.812472343444824, \"tsneX\": -0.36321648653184524, \"tsneY\": -11.931245971134592}, {\"sepalLength\": 6.8, \"sepalWidth\": 3.2, \"petalLength\": 5.9, \"petalWidth\": 2.3, \"species\": \"virginica\", \"umapX\": -6.91753625869751, \"umapY\": 3.3079488277435303, \"tsneX\": -6.145086568309819, \"tsneY\": -11.099239138784288}, {\"sepalLength\": 6.7, \"sepalWidth\": 3.3, \"petalLength\": 5.7, \"petalWidth\": 2.5, \"species\": \"virginica\", \"umapX\": -6.629424571990967, \"umapY\": 3.4267234802246094, \"tsneX\": -5.831319437447249, \"tsneY\": -11.671690025090273}, {\"sepalLength\": 6.7, \"sepalWidth\": 3.0, \"petalLength\": 5.2, \"petalWidth\": 2.3, \"species\": \"virginica\", \"umapX\": -6.661554336547852, \"umapY\": 4.2504658699035645, \"tsneX\": -4.3911767368022545, \"tsneY\": -11.465599608477842}, {\"sepalLength\": 6.3, \"sepalWidth\": 2.5, \"petalLength\": 5.0, \"petalWidth\": 1.9, \"species\": \"virginica\", \"umapX\": -5.580894947052002, \"umapY\": 6.313455581665039, \"tsneX\": -1.1661453932638957, \"tsneY\": -10.687644695065492}, {\"sepalLength\": 6.5, \"sepalWidth\": 3.0, \"petalLength\": 5.2, \"petalWidth\": 2.0, \"species\": \"virginica\", \"umapX\": -6.243613243103027, \"umapY\": 4.634127140045166, \"tsneX\": -3.5188504586720706, \"tsneY\": -11.133072961714477}, {\"sepalLength\": 6.2, \"sepalWidth\": 3.4, \"petalLength\": 5.4, \"petalWidth\": 2.3, \"species\": \"virginica\", \"umapX\": -6.123680591583252, \"umapY\": 3.986008405685425, \"tsneX\": -4.6349785170389515, \"tsneY\": -12.404977527542542}, {\"sepalLength\": 5.9, \"sepalWidth\": 3.0, \"petalLength\": 5.1, \"petalWidth\": 1.8, \"species\": \"virginica\", \"umapX\": -5.836456775665283, \"umapY\": 6.959194183349609, \"tsneX\": 0.06925007508763671, \"tsneY\": -11.517223295967042}]}}, {\"mode\": \"vega-lite\"});\n",
       "</script>"
      ],
      "text/plain": [
       "alt.HConcatChart(...)"
      ]
     },
     "execution_count": 11,
     "metadata": {},
     "output_type": "execute_result"
    }
   ],
   "source": [
    "alt.Chart(df_iris_proj).mark_circle(\n",
    "    opacity=0.6\n",
    ").encode(\n",
    "    x='umapX',\n",
    "    y='umapY',\n",
    "    color='species'\n",
    ").properties(\n",
    "    width=500,\n",
    "    height=400,\n",
    "    title=\"UMAP projected iris data\"\n",
    ").interactive() | alt.Chart(df_iris_proj).mark_circle(\n",
    "    opacity=0.6\n",
    ").encode(\n",
    "    x='tsneX',\n",
    "    y='tsneY',\n",
    "    color='species'\n",
    ").properties(\n",
    "    width=500,\n",
    "    height=400,\n",
    "    title=\"TSNE projected iris data\"\n",
    ").interactive()"
   ]
  }
 ],
 "metadata": {
  "kernelspec": {
   "display_name": "Python 3",
   "language": "python",
   "name": "python3"
  },
  "language_info": {
   "codemirror_mode": {
    "name": "ipython",
    "version": 3
   },
   "file_extension": ".py",
   "mimetype": "text/x-python",
   "name": "python",
   "nbconvert_exporter": "python",
   "pygments_lexer": "ipython3",
   "version": "3.8.8"
  }
 },
 "nbformat": 4,
 "nbformat_minor": 5
}
